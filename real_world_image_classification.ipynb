{
 "cells": [
  {
   "cell_type": "code",
   "execution_count": 6,
   "metadata": {},
   "outputs": [],
   "source": [
    "import os\n",
    "import random\n",
    "import zipfile\n",
    "\n",
    "import tensorflow as tf"
   ]
  },
  {
   "cell_type": "code",
   "execution_count": null,
   "metadata": {},
   "outputs": [],
   "source": [
    "# !wget --no-check-certificate \\\n",
    "#     \"https://download.microsoft.com/download/3/E/1/3E1C3F21-ECDB-4869-8368-6DEBA77B919F/kagglecatsanddogs_3367a.zip\" \\\n",
    "#     -O \"./cats-and-dogs.zip\"\n",
    "\n"
   ]
  },
  {
   "cell_type": "code",
   "execution_count": 3,
   "metadata": {},
   "outputs": [],
   "source": [
    "local_zip = './cats-and-dogs.zip'\n",
    "zip_ref   = zipfile.ZipFile(local_zip, 'r')\n",
    "zip_ref.extractall('./')\n",
    "zip_ref.close()"
   ]
  },
  {
   "cell_type": "code",
   "execution_count": 4,
   "metadata": {},
   "outputs": [
    {
     "name": "stdout",
     "output_type": "stream",
     "text": [
      "12501\n",
      "12501\n"
     ]
    }
   ],
   "source": [
    "print(len(os.listdir('./PetImages/Cat/')))\n",
    "print(len(os.listdir('./PetImages/Dog/')))"
   ]
  },
  {
   "cell_type": "markdown",
   "metadata": {},
   "source": [
    "## Creating Training and Testing Directories"
   ]
  },
  {
   "cell_type": "code",
   "execution_count": 11,
   "metadata": {},
   "outputs": [],
   "source": [
    "try:\n",
    "    os.mkdir('./cats-v-dogs')\n",
    "    os.mkdir('./cats-v-dogs/training')\n",
    "    os.mkdir('./cats-v-dogs/testing')\n",
    "    os.mkdir('./cats-v-dogs/training/cats')\n",
    "    os.mkdir('./cats-v-dogs/training/dogs')\n",
    "    os.mkdir('./cats-v-dogs/testing/cats')\n",
    "    os.mkdir('./cats-v-dogs/testing/dogs')\n",
    "except OSError:\n",
    "    pass"
   ]
  },
  {
   "cell_type": "code",
   "execution_count": 29,
   "metadata": {},
   "outputs": [],
   "source": [
    "from shutil import copyfile\n",
    "def train_test_split(SOURCE_DIR, TRAIN_DIR, TEST_DIR, SPLIT_SIZE):\n",
    "    img_files = []\n",
    "    # listing all the files in the source dir\n",
    "    for filename in os.listdir(SOURCE_DIR):\n",
    "        img = SOURCE_DIR + filename\n",
    "        if os.path.getsize(img) > 0:\n",
    "            img_files.append(filename)\n",
    "        else:\n",
    "            print(filename, \" - disregarded as it doesn't have any data!\")\n",
    "    \n",
    "    ## setting training and testing sizes\n",
    "    train_size = int(len(img_files) * SPLIT_SIZE)\n",
    "    test_size = int(len(img_files) - train_size)\n",
    "    \n",
    "    ## shuffling images in the list\n",
    "    shuffled_set = random.sample(img_files, len(img_files))\n",
    "    \n",
    "    ##creating training and testing set\n",
    "    train_set = shuffled_set[0:train_size]\n",
    "    test_set = shuffled_set[-test_size: ]  # using negative indexing\n",
    "    \n",
    "    ##copying files to training dir\n",
    "    for filename in train_set:\n",
    "        file = SOURCE_DIR + filename\n",
    "        copy_dest = TRAIN_DIR + filename\n",
    "        copyfile(file, copy_dest)\n",
    "        \n",
    "    ##copying files to testing dir\n",
    "    for filename in test_set:\n",
    "        file = SOURCE_DIR + filename\n",
    "        copy_dest = TEST_DIR + filename\n",
    "        copyfile(file, copy_dest)\n",
    "        \n",
    "    \n",
    "    \n",
    "    "
   ]
  },
  {
   "cell_type": "code",
   "execution_count": 30,
   "metadata": {},
   "outputs": [
    {
     "name": "stdout",
     "output_type": "stream",
     "text": [
      "666.jpg  - disregarded as it doesn't have any data!\n",
      "11702.jpg  - disregarded as it doesn't have any data!\n"
     ]
    }
   ],
   "source": [
    "CAT_SOURCE_DIR = \"./PetImages/Cat/\"\n",
    "CATS_TRAIN_DIR = \"./cats-v-dogs/training/cats/\"\n",
    "CATS_TEST_DIR = \"./cats-v-dogs/testing/cats/\"\n",
    "DOG_SOURCE_DIR = \"./PetImages/Dog/\"\n",
    "DOGS_TRAIN_DIR = \"./cats-v-dogs/training/dogs/\"\n",
    "DOGS_TEST_DIR = \"./cats-v-dogs/testing/dogs/\"\n",
    "\n",
    "split_size = .9\n",
    "\n",
    "##splitting cats images\n",
    "train_test_split(CAT_SOURCE_DIR, CATS_TRAIN_DIR, CATS_TEST_DIR, split_size)\n",
    "\n",
    "##splitting dogs images\n",
    "train_test_split(DOG_SOURCE_DIR, DOGS_TRAIN_DIR, DOGS_TEST_DIR, split_size)"
   ]
  },
  {
   "cell_type": "code",
   "execution_count": 39,
   "metadata": {},
   "outputs": [
    {
     "ename": "SyntaxError",
     "evalue": "invalid syntax (<ipython-input-39-d45b33dd8842>, line 3)",
     "output_type": "error",
     "traceback": [
      "\u001b[0;36m  File \u001b[0;32m\"<ipython-input-39-d45b33dd8842>\"\u001b[0;36m, line \u001b[0;32m3\u001b[0m\n\u001b[0;31m    print(len(os.listdir(CATS_TEST_DIR)))\u001b[0m\n\u001b[0m    ^\u001b[0m\n\u001b[0;31mSyntaxError\u001b[0m\u001b[0;31m:\u001b[0m invalid syntax\n"
     ]
    }
   ],
   "source": [
    "print(len(os.listdir(TRAINING_DIRTS_TRAIN_DIR)))\n",
    "print(len(os.listdir((DOGS_TRAIN_DIR))\n",
    "print(len(os.listdir(CATS_TEST_DIR)))\n",
    "print(len(os.listdir(CATS_TEST_DIR)))"
   ]
  },
  {
   "cell_type": "markdown",
   "metadata": {},
   "source": [
    "## Defining Model with Convolution and Pooling layers"
   ]
  },
  {
   "cell_type": "code",
   "execution_count": 32,
   "metadata": {},
   "outputs": [],
   "source": [
    "model = tf.keras.models.Sequential([\n",
    "    tf.keras.layers.Conv2D(16, (3, 3), activation='relu', input_shape=(150, 150, 3)),\n",
    "    tf.keras.layers.MaxPooling2D(2, 2),\n",
    "    tf.keras.layers.Conv2D(32, (3, 3), activation='relu'),\n",
    "    tf.keras.layers.MaxPooling2D(2, 2),\n",
    "    tf.keras.layers.Conv2D(64, (3, 3), activation='relu'),\n",
    "    tf.keras.layers.MaxPooling2D(2, 2),\n",
    "    tf.keras.layers.Flatten(),\n",
    "    tf.keras.layers.Dense(512, activation='relu'),\n",
    "    tf.keras.layers.Dense(1, activation='sigmoid')\n",
    "])\n",
    "\n",
    "model.compile(optimizer=tf.keras.optimizers.RMSprop(lr=0.001), loss='binary_crossentropy', metrics=['acc'])"
   ]
  },
  {
   "cell_type": "markdown",
   "metadata": {},
   "source": [
    "## Image Data Generators\n",
    "\n",
    "Setting up data generators that will read pictures in our source folders, convert them to float32 tensors, and feed them (with their labels) to our network. We'll have one generator for the training images and one for the validation images. \n",
    "\n",
    "Our generators will yield batches of images of size 150x150 and their labels (binary)."
   ]
  },
  {
   "cell_type": "code",
   "execution_count": 36,
   "metadata": {},
   "outputs": [
    {
     "name": "stdout",
     "output_type": "stream",
     "text": [
      "Found 24752 images belonging to 2 classes.\n",
      "Found 4754 images belonging to 2 classes.\n"
     ]
    }
   ],
   "source": [
    "from tensorflow.keras.preprocessing.image import ImageDataGenerator\n",
    "\n",
    "TRAINING_DIR = \"./cats-v-dogs/training/\"\n",
    "training_datagen = ImageDataGenerator(rescale=1.0/255.)\n",
    "training_generator = training_datagen.flow_from_directory(TRAINING_DIR,\n",
    "                                                    batch_size=250,\n",
    "                                                    class_mode='binary',\n",
    "                                                    target_size=(150, 150))\n",
    "\n",
    "TESTING_DIR = \"./cats-v-dogs/testing/\"\n",
    "testing_datagen = ImageDataGenerator(rescale=1.0/255.)\n",
    "testing_generator = testing_datagen.flow_from_directory(TESTING_DIR,\n",
    "                                                              batch_size=250,\n",
    "                                                              class_mode='binary',\n",
    "                                                              target_size=(150, 150))"
   ]
  },
  {
   "cell_type": "code",
   "execution_count": 38,
   "metadata": {},
   "outputs": [
    {
     "name": "stdout",
     "output_type": "stream",
     "text": [
      "Epoch 1/15\n",
      "79/90 [=========================>....] - ETA: 9s - loss: 0.7065 - acc: 0.5936 "
     ]
    },
    {
     "name": "stderr",
     "output_type": "stream",
     "text": [
      "/home/harshit/DSWH/dswh_env/lib/python3.8/site-packages/PIL/TiffImagePlugin.py:763: UserWarning: Possibly corrupt EXIF data.  Expecting to read 32 bytes but only got 0. Skipping tag 270\n",
      "  warnings.warn(\n",
      "/home/harshit/DSWH/dswh_env/lib/python3.8/site-packages/PIL/TiffImagePlugin.py:763: UserWarning: Possibly corrupt EXIF data.  Expecting to read 5 bytes but only got 0. Skipping tag 271\n",
      "  warnings.warn(\n",
      "/home/harshit/DSWH/dswh_env/lib/python3.8/site-packages/PIL/TiffImagePlugin.py:763: UserWarning: Possibly corrupt EXIF data.  Expecting to read 8 bytes but only got 0. Skipping tag 272\n",
      "  warnings.warn(\n",
      "/home/harshit/DSWH/dswh_env/lib/python3.8/site-packages/PIL/TiffImagePlugin.py:763: UserWarning: Possibly corrupt EXIF data.  Expecting to read 8 bytes but only got 0. Skipping tag 282\n",
      "  warnings.warn(\n",
      "/home/harshit/DSWH/dswh_env/lib/python3.8/site-packages/PIL/TiffImagePlugin.py:763: UserWarning: Possibly corrupt EXIF data.  Expecting to read 8 bytes but only got 0. Skipping tag 283\n",
      "  warnings.warn(\n",
      "/home/harshit/DSWH/dswh_env/lib/python3.8/site-packages/PIL/TiffImagePlugin.py:763: UserWarning: Possibly corrupt EXIF data.  Expecting to read 20 bytes but only got 0. Skipping tag 306\n",
      "  warnings.warn(\n",
      "/home/harshit/DSWH/dswh_env/lib/python3.8/site-packages/PIL/TiffImagePlugin.py:763: UserWarning: Possibly corrupt EXIF data.  Expecting to read 48 bytes but only got 0. Skipping tag 532\n",
      "  warnings.warn(\n",
      "/home/harshit/DSWH/dswh_env/lib/python3.8/site-packages/PIL/TiffImagePlugin.py:785: UserWarning: Corrupt EXIF data.  Expecting to read 2 bytes but only got 0. \n",
      "  warnings.warn(str(msg))\n"
     ]
    },
    {
     "name": "stdout",
     "output_type": "stream",
     "text": [
      "90/90 [==============================] - 79s 879ms/step - loss: 0.6912 - acc: 0.6072 - val_loss: 0.5511 - val_acc: 0.7247\n",
      "Epoch 2/15\n",
      "90/90 [==============================] - 78s 867ms/step - loss: 0.5653 - acc: 0.7078 - val_loss: 0.5080 - val_acc: 0.7473\n",
      "Epoch 3/15\n",
      "90/90 [==============================] - 78s 865ms/step - loss: 0.5165 - acc: 0.7459 - val_loss: 0.4570 - val_acc: 0.8013\n",
      "Epoch 4/15\n",
      "90/90 [==============================] - 78s 862ms/step - loss: 0.4750 - acc: 0.7739 - val_loss: 0.4203 - val_acc: 0.8013\n",
      "Epoch 5/15\n",
      "90/90 [==============================] - 78s 865ms/step - loss: 0.4396 - acc: 0.7924 - val_loss: 0.4578 - val_acc: 0.7693\n",
      "Epoch 6/15\n",
      "90/90 [==============================] - 79s 879ms/step - loss: 0.4136 - acc: 0.8099 - val_loss: 0.3328 - val_acc: 0.8553\n",
      "Epoch 7/15\n",
      "90/90 [==============================] - 79s 877ms/step - loss: 0.4043 - acc: 0.8236 - val_loss: 0.3199 - val_acc: 0.8513\n",
      "Epoch 8/15\n",
      "90/90 [==============================] - 79s 877ms/step - loss: 0.3454 - acc: 0.8481 - val_loss: 0.3145 - val_acc: 0.8547\n",
      "Epoch 9/15\n",
      "90/90 [==============================] - 79s 879ms/step - loss: 0.3152 - acc: 0.8606 - val_loss: 0.2815 - val_acc: 0.8800\n",
      "Epoch 10/15\n",
      "90/90 [==============================] - 80s 886ms/step - loss: 0.2854 - acc: 0.8767 - val_loss: 0.2204 - val_acc: 0.9207\n",
      "Epoch 11/15\n",
      "90/90 [==============================] - 79s 877ms/step - loss: 0.2381 - acc: 0.9005 - val_loss: 0.2069 - val_acc: 0.9300\n",
      "Epoch 12/15\n",
      "90/90 [==============================] - 79s 876ms/step - loss: 0.2112 - acc: 0.9150 - val_loss: 0.2659 - val_acc: 0.8807\n",
      "Epoch 13/15\n",
      "90/90 [==============================] - 80s 890ms/step - loss: 0.1838 - acc: 0.9295 - val_loss: 0.1060 - val_acc: 0.9633\n",
      "Epoch 14/15\n",
      "90/90 [==============================] - 81s 902ms/step - loss: 0.1526 - acc: 0.9418 - val_loss: 0.1437 - val_acc: 0.9653\n",
      "Epoch 15/15\n",
      "90/90 [==============================] - 82s 907ms/step - loss: 0.1241 - acc: 0.9573 - val_loss: 0.1101 - val_acc: 0.9660\n"
     ]
    }
   ],
   "source": [
    "history = model.fit(training_generator, epochs=15, steps_per_epoch=90,\n",
    "                    validation_data=testing_generator, validation_steps=6)"
   ]
  },
  {
   "cell_type": "code",
   "execution_count": 40,
   "metadata": {},
   "outputs": [
    {
     "data": {
      "text/plain": [
       "<Figure size 432x288 with 0 Axes>"
      ]
     },
     "execution_count": 40,
     "metadata": {},
     "output_type": "execute_result"
    },
    {
     "data": {
      "image/png": "[encoded data removed]",
      "text/plain": [
       "<Figure size 432x288 with 1 Axes>"
      ]
     },
     "metadata": {
      "needs_background": "light"
     },
     "output_type": "display_data"
    },
    {
     "data": {
      "image/png": "[encoded data removed]",
      "text/plain": [
       "<Figure size 432x288 with 1 Axes>"
      ]
     },
     "metadata": {
      "needs_background": "light"
     },
     "output_type": "display_data"
    },
    {
     "data": {
      "text/plain": [
       "<Figure size 432x288 with 0 Axes>"
      ]
     },
     "metadata": {},
     "output_type": "display_data"
    }
   ],
   "source": [
    "%matplotlib inline\n",
    "\n",
    "import matplotlib.image  as mpimg\n",
    "import matplotlib.pyplot as plt\n",
    "\n",
    "#-----------------------------------------------------------\n",
    "# Retrieve a list of list results on training and test data\n",
    "# sets for each training epoch\n",
    "#-----------------------------------------------------------\n",
    "acc=history.history['acc']\n",
    "val_acc=history.history['val_acc']\n",
    "loss=history.history['loss']\n",
    "val_loss=history.history['val_loss']\n",
    "\n",
    "epochs=range(len(acc)) # Get number of epochs\n",
    "\n",
    "#------------------------------------------------\n",
    "# Plot training and validation accuracy per epoch\n",
    "#------------------------------------------------\n",
    "plt.plot(epochs, acc, 'r', \"Training Accuracy\")\n",
    "plt.plot(epochs, val_acc, 'b', \"Validation Accuracy\")\n",
    "plt.title('Training and validation accuracy')\n",
    "plt.figure()\n",
    "\n",
    "#------------------------------------------------\n",
    "# Plot training and validation loss per epoch\n",
    "#------------------------------------------------\n",
    "plt.plot(epochs, loss, 'r', \"Training Loss\")\n",
    "plt.plot(epochs, val_loss, 'b', \"Validation Loss\")\n",
    "plt.figure()"
   ]
  },
  {
   "cell_type": "code",
   "execution_count": 42,
   "metadata": {},
   "outputs": [],
   "source": [
    "import numpy as np\n",
    "from tensorflow.keras.preprocessing import image"
   ]
  },
  {
   "cell_type": "code",
   "execution_count": 48,
   "metadata": {},
   "outputs": [
    {
     "name": "stdout",
     "output_type": "stream",
     "text": [
      "[0.]\n",
      "image is a cat\n"
     ]
    }
   ],
   "source": [
    "img = image.load_img(\"./cats-v-dogs/training/cats/10004.jpg\", target_size=(150, 150))\n",
    "x = image.img_to_array(img)\n",
    "x = np.expand_dims(x, axis = 0)\n",
    "\n",
    "images = np.vstack([x])\n",
    "classes = model.predict(images, batch_size=10)\n",
    "print(classes[0])\n",
    "if classes[0]>0.5:\n",
    "    print(\"image is a dog\")\n",
    "else:\n",
    "    print(\"image is a cat\")"
   ]
  },
  {
   "cell_type": "code",
   "execution_count": 49,
   "metadata": {},
   "outputs": [],
   "source": []
  },
  {
   "cell_type": "code",
   "execution_count": null,
   "metadata": {},
   "outputs": [],
   "source": []
  }
 ],
 "metadata": {
  "kernelspec": {
   "display_name": "Python 3",
   "language": "python",
   "name": "python3"
  },
  "language_info": {
   "codemirror_mode": {
    "name": "ipython",
    "version": 3
   },
   "file_extension": ".py",
   "mimetype": "text/x-python",
   "name": "python",
   "nbconvert_exporter": "python",
   "pygments_lexer": "ipython3",
   "version": "3.8.2"
  }
 },
 "nbformat": 4,
 "nbformat_minor": 4
}
