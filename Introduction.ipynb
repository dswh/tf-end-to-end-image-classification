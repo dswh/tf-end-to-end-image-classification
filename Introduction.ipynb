{
 "cells": [
  {
   "cell_type": "markdown",
   "metadata": {},
   "source": [
    "# Solving a simple Problem with Neural Network"
   ]
  },
  {
   "cell_type": "code",
   "execution_count": 1,
   "metadata": {},
   "outputs": [
    {
     "name": "stdout",
     "output_type": "stream",
     "text": [
      "Tensorflow Version:  2.3.0\n",
      "Keras Version:  2.4.0\n"
     ]
    }
   ],
   "source": [
    "##importing the main deep learning \n",
    "import tensorflow as tf\n",
    "from tensorflow import keras\n",
    "\n",
    "print(\"Tensorflow Version: \", tf.__version__)\n",
    "print(\"Keras Version: \", keras.__version__)\n"
   ]
  },
  {
   "cell_type": "code",
   "execution_count": 54,
   "metadata": {},
   "outputs": [],
   "source": [
    "import numpy as np"
   ]
  },
  {
   "cell_type": "code",
   "execution_count": 4,
   "metadata": {
    "scrolled": false
   },
   "outputs": [
    {
     "name": "stdout",
     "output_type": "stream",
     "text": [
      "Epoch 1/100\n",
      "1/1 [==============================] - 0s 701us/step - loss: 81722.0234\n",
      "Epoch 2/100\n",
      "1/1 [==============================] - 0s 350us/step - loss: 22158.4395\n",
      "Epoch 3/100\n",
      "1/1 [==============================] - 0s 375us/step - loss: 6107.9370\n",
      "Epoch 4/100\n",
      "1/1 [==============================] - 0s 350us/step - loss: 1782.3517\n",
      "Epoch 5/100\n",
      "1/1 [==============================] - 0s 437us/step - loss: 616.1293\n",
      "Epoch 6/100\n",
      "1/1 [==============================] - 0s 426us/step - loss: 301.2243\n",
      "Epoch 7/100\n",
      "1/1 [==============================] - 0s 469us/step - loss: 215.7156\n",
      "Epoch 8/100\n",
      "1/1 [==============================] - 0s 474us/step - loss: 192.0225\n",
      "Epoch 9/100\n",
      "1/1 [==============================] - 0s 877us/step - loss: 184.9894\n",
      "Epoch 10/100\n",
      "1/1 [==============================] - 0s 545us/step - loss: 182.4487\n",
      "Epoch 11/100\n",
      "1/1 [==============================] - 0s 520us/step - loss: 181.1214\n",
      "Epoch 12/100\n",
      "1/1 [==============================] - 0s 627us/step - loss: 180.1243\n",
      "Epoch 13/100\n",
      "1/1 [==============================] - 0s 473us/step - loss: 179.2192\n",
      "Epoch 14/100\n",
      "1/1 [==============================] - 0s 359us/step - loss: 178.3421\n",
      "Epoch 15/100\n",
      "1/1 [==============================] - 0s 364us/step - loss: 177.4755\n",
      "Epoch 16/100\n",
      "1/1 [==============================] - 0s 657us/step - loss: 176.6149\n",
      "Epoch 17/100\n",
      "1/1 [==============================] - 0s 502us/step - loss: 175.7588\n",
      "Epoch 18/100\n",
      "1/1 [==============================] - 0s 476us/step - loss: 174.9069\n",
      "Epoch 19/100\n",
      "1/1 [==============================] - 0s 599us/step - loss: 174.0594\n",
      "Epoch 20/100\n",
      "1/1 [==============================] - 0s 1ms/step - loss: 173.2158\n",
      "Epoch 21/100\n",
      "1/1 [==============================] - 0s 427us/step - loss: 172.3763\n",
      "Epoch 22/100\n",
      "1/1 [==============================] - 0s 428us/step - loss: 171.5410\n",
      "Epoch 23/100\n",
      "1/1 [==============================] - 0s 379us/step - loss: 170.7097\n",
      "Epoch 24/100\n",
      "1/1 [==============================] - 0s 348us/step - loss: 169.8824\n",
      "Epoch 25/100\n",
      "1/1 [==============================] - 0s 367us/step - loss: 169.0592\n",
      "Epoch 26/100\n",
      "1/1 [==============================] - 0s 492us/step - loss: 168.2400\n",
      "Epoch 27/100\n",
      "1/1 [==============================] - 0s 590us/step - loss: 167.4248\n",
      "Epoch 28/100\n",
      "1/1 [==============================] - 0s 510us/step - loss: 166.6133\n",
      "Epoch 29/100\n",
      "1/1 [==============================] - 0s 494us/step - loss: 165.8059\n",
      "Epoch 30/100\n",
      "1/1 [==============================] - 0s 483us/step - loss: 165.0023\n",
      "Epoch 31/100\n",
      "1/1 [==============================] - 0s 431us/step - loss: 164.2028\n",
      "Epoch 32/100\n",
      "1/1 [==============================] - 0s 433us/step - loss: 163.4070\n",
      "Epoch 33/100\n",
      "1/1 [==============================] - 0s 449us/step - loss: 162.6152\n",
      "Epoch 34/100\n",
      "1/1 [==============================] - 0s 701us/step - loss: 161.8271\n",
      "Epoch 35/100\n",
      "1/1 [==============================] - 0s 580us/step - loss: 161.0430\n",
      "Epoch 36/100\n",
      "1/1 [==============================] - 0s 499us/step - loss: 160.2624\n",
      "Epoch 37/100\n",
      "1/1 [==============================] - 0s 396us/step - loss: 159.4858\n",
      "Epoch 38/100\n",
      "1/1 [==============================] - 0s 430us/step - loss: 158.7131\n",
      "Epoch 39/100\n",
      "1/1 [==============================] - 0s 474us/step - loss: 157.9439\n",
      "Epoch 40/100\n",
      "1/1 [==============================] - 0s 453us/step - loss: 157.1784\n",
      "Epoch 41/100\n",
      "1/1 [==============================] - 0s 479us/step - loss: 156.4167\n",
      "Epoch 42/100\n",
      "1/1 [==============================] - 0s 479us/step - loss: 155.6585\n",
      "Epoch 43/100\n",
      "1/1 [==============================] - 0s 453us/step - loss: 154.9044\n",
      "Epoch 44/100\n",
      "1/1 [==============================] - 0s 445us/step - loss: 154.1537\n",
      "Epoch 45/100\n",
      "1/1 [==============================] - 0s 482us/step - loss: 153.4067\n",
      "Epoch 46/100\n",
      "1/1 [==============================] - 0s 430us/step - loss: 152.6632\n",
      "Epoch 47/100\n",
      "1/1 [==============================] - 0s 438us/step - loss: 151.9233\n",
      "Epoch 48/100\n",
      "1/1 [==============================] - 0s 451us/step - loss: 151.1871\n",
      "Epoch 49/100\n",
      "1/1 [==============================] - 0s 448us/step - loss: 150.4545\n",
      "Epoch 50/100\n",
      "1/1 [==============================] - 0s 465us/step - loss: 149.7256\n",
      "Epoch 51/100\n",
      "1/1 [==============================] - 0s 495us/step - loss: 148.9999\n",
      "Epoch 52/100\n",
      "1/1 [==============================] - 0s 510us/step - loss: 148.2777\n",
      "Epoch 53/100\n",
      "1/1 [==============================] - 0s 462us/step - loss: 147.5593\n",
      "Epoch 54/100\n",
      "1/1 [==============================] - 0s 444us/step - loss: 146.8441\n",
      "Epoch 55/100\n",
      "1/1 [==============================] - 0s 436us/step - loss: 146.1325\n",
      "Epoch 56/100\n",
      "1/1 [==============================] - 0s 474us/step - loss: 145.4244\n",
      "Epoch 57/100\n",
      "1/1 [==============================] - 0s 443us/step - loss: 144.7197\n",
      "Epoch 58/100\n",
      "1/1 [==============================] - 0s 515us/step - loss: 144.0184\n",
      "Epoch 59/100\n",
      "1/1 [==============================] - 0s 497us/step - loss: 143.3204\n",
      "Epoch 60/100\n",
      "1/1 [==============================] - 0s 489us/step - loss: 142.6259\n",
      "Epoch 61/100\n",
      "1/1 [==============================] - 0s 490us/step - loss: 141.9346\n",
      "Epoch 62/100\n",
      "1/1 [==============================] - 0s 487us/step - loss: 141.2468\n",
      "Epoch 63/100\n",
      "1/1 [==============================] - 0s 448us/step - loss: 140.5623\n",
      "Epoch 64/100\n",
      "1/1 [==============================] - 0s 424us/step - loss: 139.8811\n",
      "Epoch 65/100\n",
      "1/1 [==============================] - 0s 424us/step - loss: 139.2033\n",
      "Epoch 66/100\n",
      "1/1 [==============================] - 0s 445us/step - loss: 138.5288\n",
      "Epoch 67/100\n",
      "1/1 [==============================] - 0s 496us/step - loss: 137.8573\n",
      "Epoch 68/100\n",
      "1/1 [==============================] - 0s 511us/step - loss: 137.1893\n",
      "Epoch 69/100\n",
      "1/1 [==============================] - 0s 560us/step - loss: 136.5245\n",
      "Epoch 70/100\n",
      "1/1 [==============================] - 0s 494us/step - loss: 135.8630\n",
      "Epoch 71/100\n",
      "1/1 [==============================] - 0s 409us/step - loss: 135.2045\n",
      "Epoch 72/100\n",
      "1/1 [==============================] - 0s 428us/step - loss: 134.5493\n",
      "Epoch 73/100\n",
      "1/1 [==============================] - 0s 412us/step - loss: 133.8973\n",
      "Epoch 74/100\n",
      "1/1 [==============================] - 0s 411us/step - loss: 133.2485\n",
      "Epoch 75/100\n",
      "1/1 [==============================] - 0s 406us/step - loss: 132.6028\n",
      "Epoch 76/100\n",
      "1/1 [==============================] - 0s 498us/step - loss: 131.9599\n",
      "Epoch 77/100\n",
      "1/1 [==============================] - 0s 484us/step - loss: 131.3207\n",
      "Epoch 78/100\n",
      "1/1 [==============================] - 0s 401us/step - loss: 130.6842\n",
      "Epoch 79/100\n",
      "1/1 [==============================] - 0s 523us/step - loss: 130.0510\n",
      "Epoch 80/100\n",
      "1/1 [==============================] - 0s 448us/step - loss: 129.4206\n",
      "Epoch 81/100\n",
      "1/1 [==============================] - 0s 436us/step - loss: 128.7936\n",
      "Epoch 82/100\n",
      "1/1 [==============================] - 0s 513us/step - loss: 128.1694\n",
      "Epoch 83/100\n",
      "1/1 [==============================] - 0s 492us/step - loss: 127.5481\n",
      "Epoch 84/100\n",
      "1/1 [==============================] - 0s 410us/step - loss: 126.9300\n",
      "Epoch 85/100\n",
      "1/1 [==============================] - 0s 437us/step - loss: 126.3151\n",
      "Epoch 86/100\n",
      "1/1 [==============================] - 0s 458us/step - loss: 125.7030\n",
      "Epoch 87/100\n",
      "1/1 [==============================] - 0s 460us/step - loss: 125.0938\n",
      "Epoch 88/100\n",
      "1/1 [==============================] - 0s 538us/step - loss: 124.4874\n",
      "Epoch 89/100\n",
      "1/1 [==============================] - 0s 440us/step - loss: 123.8841\n",
      "Epoch 90/100\n",
      "1/1 [==============================] - 0s 490us/step - loss: 123.2839\n",
      "Epoch 91/100\n",
      "1/1 [==============================] - 0s 621us/step - loss: 122.6865\n",
      "Epoch 92/100\n",
      "1/1 [==============================] - 0s 479us/step - loss: 122.0920\n",
      "Epoch 93/100\n",
      "1/1 [==============================] - 0s 455us/step - loss: 121.5003\n",
      "Epoch 94/100\n",
      "1/1 [==============================] - 0s 493us/step - loss: 120.9114\n",
      "Epoch 95/100\n",
      "1/1 [==============================] - 0s 430us/step - loss: 120.3254\n",
      "Epoch 96/100\n",
      "1/1 [==============================] - 0s 354us/step - loss: 119.7425\n",
      "Epoch 97/100\n",
      "1/1 [==============================] - 0s 454us/step - loss: 119.1621\n",
      "Epoch 98/100\n",
      "1/1 [==============================] - 0s 658us/step - loss: 118.5846\n",
      "Epoch 99/100\n",
      "1/1 [==============================] - 0s 566us/step - loss: 118.0100\n",
      "Epoch 100/100\n",
      "1/1 [==============================] - 0s 463us/step - loss: 117.4382\n",
      "[[579.02277]]\n"
     ]
    }
   ],
   "source": [
    "bedrooms = np.array([2,3,4,5,6,7])\n",
    "house_prices = np.array([150, 200, 250, 300, 350, 400])\n",
    "\n",
    "model = tf.keras.Sequential([\n",
    "    tf.keras.layers.Dense(units = 1, input_shape=[1])\n",
    "])\n",
    "\n",
    "model.compile(optimizer='sgd', loss='mean_squared_error')\n",
    "model.fit(bedrooms, house_prices, epochs=100)\n",
    "\n",
    "print(model.predict([10]))\n"
   ]
  },
  {
   "cell_type": "markdown",
   "metadata": {},
   "source": [
    "\n",
    "# Image Classification on Fashion MNIST dataset\n"
   ]
  },
  {
   "cell_type": "code",
   "execution_count": 2,
   "metadata": {},
   "outputs": [
    {
     "name": "stdout",
     "output_type": "stream",
     "text": [
      "Downloading data from https://storage.googleapis.com/tensorflow/tf-keras-datasets/train-labels-idx1-ubyte.gz\n",
      "32768/29515 [=================================] - 0s 2us/step\n",
      "Downloading data from https://storage.googleapis.com/tensorflow/tf-keras-datasets/train-images-idx3-ubyte.gz\n",
      "26427392/26421880 [==============================] - 2s 0us/step\n",
      "Downloading data from https://storage.googleapis.com/tensorflow/tf-keras-datasets/t10k-labels-idx1-ubyte.gz\n",
      "8192/5148 [===============================================] - 0s 0us/step\n",
      "Downloading data from https://storage.googleapis.com/tensorflow/tf-keras-datasets/t10k-images-idx3-ubyte.gz\n",
      "4423680/4422102 [==============================] - 0s 0us/step\n"
     ]
    }
   ],
   "source": [
    "##loading fashion MNIST dataset from tensorflow data API\n",
    "fashion_mnist = keras.datasets.fashion_mnist\n",
    "(X_train, y_train), (X_test, y_test) = fashion_mnist.load_data()"
   ]
  },
  {
   "cell_type": "code",
   "execution_count": 6,
   "metadata": {},
   "outputs": [
    {
     "data": {
      "text/plain": [
       "<module 'tensorflow.keras.datasets.fashion_mnist' from '/home/harshit/DSWH/dswh_env/lib/python3.8/site-packages/tensorflow/keras/datasets/fashion_mnist/__init__.py'>"
      ]
     },
     "execution_count": 6,
     "metadata": {},
     "output_type": "execute_result"
    }
   ],
   "source": []
  },
  {
   "cell_type": "code",
   "execution_count": 4,
   "metadata": {},
   "outputs": [
    {
     "data": {
      "text/plain": [
       "(60000, 28, 28)"
      ]
     },
     "execution_count": 4,
     "metadata": {},
     "output_type": "execute_result"
    }
   ],
   "source": [
    "X_train.shape"
   ]
  },
  {
   "cell_type": "code",
   "execution_count": 5,
   "metadata": {},
   "outputs": [
    {
     "data": {
      "text/plain": [
       "(10000, 28, 28)"
      ]
     },
     "execution_count": 5,
     "metadata": {},
     "output_type": "execute_result"
    }
   ],
   "source": [
    "X_test.shape"
   ]
  },
  {
   "cell_type": "code",
   "execution_count": 10,
   "metadata": {},
   "outputs": [
    {
     "data": {
      "text/plain": [
       "array([[  0,   0,   0,   0,   0,   0,   0,   0,   0,   0,   0,   0,   0,\n",
       "          0,   0,   0,   0,   0,   0,   0,   0,   0,   0,   0,   0,   0,\n",
       "          0,   0],\n",
       "       [  0,   0,   0,   0,   0,   0,   0,   0,   0,   0,   0,   0,   0,\n",
       "          0,   0,   0,   0,   0,   0,   0,   0,   0,   0,   0,   0,   0,\n",
       "          0,   0],\n",
       "       [  0,   0,   0,   0,   0,   0,   0,   0,   0,   0,   0,   0,   0,\n",
       "          0,   0,   0,   0,   0,   0,   0,   0,   0,   0,   0,   0,   0,\n",
       "          0,   0],\n",
       "       [  0,   0,   0,   0,   0,   0,   0,   0,   0,   0,   0,   0,   1,\n",
       "          0,   0,  13,  73,   0,   0,   1,   4,   0,   0,   0,   0,   1,\n",
       "          1,   0],\n",
       "       [  0,   0,   0,   0,   0,   0,   0,   0,   0,   0,   0,   0,   3,\n",
       "          0,  36, 136, 127,  62,  54,   0,   0,   0,   1,   3,   4,   0,\n",
       "          0,   3],\n",
       "       [  0,   0,   0,   0,   0,   0,   0,   0,   0,   0,   0,   0,   6,\n",
       "          0, 102, 204, 176, 134, 144, 123,  23,   0,   0,   0,   0,  12,\n",
       "         10,   0],\n",
       "       [  0,   0,   0,   0,   0,   0,   0,   0,   0,   0,   0,   0,   0,\n",
       "          0, 155, 236, 207, 178, 107, 156, 161, 109,  64,  23,  77, 130,\n",
       "         72,  15],\n",
       "       [  0,   0,   0,   0,   0,   0,   0,   0,   0,   0,   0,   1,   0,\n",
       "         69, 207, 223, 218, 216, 216, 163, 127, 121, 122, 146, 141,  88,\n",
       "        172,  66],\n",
       "       [  0,   0,   0,   0,   0,   0,   0,   0,   0,   1,   1,   1,   0,\n",
       "        200, 232, 232, 233, 229, 223, 223, 215, 213, 164, 127, 123, 196,\n",
       "        229,   0],\n",
       "       [  0,   0,   0,   0,   0,   0,   0,   0,   0,   0,   0,   0,   0,\n",
       "        183, 225, 216, 223, 228, 235, 227, 224, 222, 224, 221, 223, 245,\n",
       "        173,   0],\n",
       "       [  0,   0,   0,   0,   0,   0,   0,   0,   0,   0,   0,   0,   0,\n",
       "        193, 228, 218, 213, 198, 180, 212, 210, 211, 213, 223, 220, 243,\n",
       "        202,   0],\n",
       "       [  0,   0,   0,   0,   0,   0,   0,   0,   0,   1,   3,   0,  12,\n",
       "        219, 220, 212, 218, 192, 169, 227, 208, 218, 224, 212, 226, 197,\n",
       "        209,  52],\n",
       "       [  0,   0,   0,   0,   0,   0,   0,   0,   0,   0,   6,   0,  99,\n",
       "        244, 222, 220, 218, 203, 198, 221, 215, 213, 222, 220, 245, 119,\n",
       "        167,  56],\n",
       "       [  0,   0,   0,   0,   0,   0,   0,   0,   0,   4,   0,   0,  55,\n",
       "        236, 228, 230, 228, 240, 232, 213, 218, 223, 234, 217, 217, 209,\n",
       "         92,   0],\n",
       "       [  0,   0,   1,   4,   6,   7,   2,   0,   0,   0,   0,   0, 237,\n",
       "        226, 217, 223, 222, 219, 222, 221, 216, 223, 229, 215, 218, 255,\n",
       "         77,   0],\n",
       "       [  0,   3,   0,   0,   0,   0,   0,   0,   0,  62, 145, 204, 228,\n",
       "        207, 213, 221, 218, 208, 211, 218, 224, 223, 219, 215, 224, 244,\n",
       "        159,   0],\n",
       "       [  0,   0,   0,   0,  18,  44,  82, 107, 189, 228, 220, 222, 217,\n",
       "        226, 200, 205, 211, 230, 224, 234, 176, 188, 250, 248, 233, 238,\n",
       "        215,   0],\n",
       "       [  0,  57, 187, 208, 224, 221, 224, 208, 204, 214, 208, 209, 200,\n",
       "        159, 245, 193, 206, 223, 255, 255, 221, 234, 221, 211, 220, 232,\n",
       "        246,   0],\n",
       "       [  3, 202, 228, 224, 221, 211, 211, 214, 205, 205, 205, 220, 240,\n",
       "         80, 150, 255, 229, 221, 188, 154, 191, 210, 204, 209, 222, 228,\n",
       "        225,   0],\n",
       "       [ 98, 233, 198, 210, 222, 229, 229, 234, 249, 220, 194, 215, 217,\n",
       "        241,  65,  73, 106, 117, 168, 219, 221, 215, 217, 223, 223, 224,\n",
       "        229,  29],\n",
       "       [ 75, 204, 212, 204, 193, 205, 211, 225, 216, 185, 197, 206, 198,\n",
       "        213, 240, 195, 227, 245, 239, 223, 218, 212, 209, 222, 220, 221,\n",
       "        230,  67],\n",
       "       [ 48, 203, 183, 194, 213, 197, 185, 190, 194, 192, 202, 214, 219,\n",
       "        221, 220, 236, 225, 216, 199, 206, 186, 181, 177, 172, 181, 205,\n",
       "        206, 115],\n",
       "       [  0, 122, 219, 193, 179, 171, 183, 196, 204, 210, 213, 207, 211,\n",
       "        210, 200, 196, 194, 191, 195, 191, 198, 192, 176, 156, 167, 177,\n",
       "        210,  92],\n",
       "       [  0,   0,  74, 189, 212, 191, 175, 172, 175, 181, 185, 188, 189,\n",
       "        188, 193, 198, 204, 209, 210, 210, 211, 188, 188, 194, 192, 216,\n",
       "        170,   0],\n",
       "       [  2,   0,   0,   0,  66, 200, 222, 237, 239, 242, 246, 243, 244,\n",
       "        221, 220, 193, 191, 179, 182, 182, 181, 176, 166, 168,  99,  58,\n",
       "          0,   0],\n",
       "       [  0,   0,   0,   0,   0,   0,   0,  40,  61,  44,  72,  41,  35,\n",
       "          0,   0,   0,   0,   0,   0,   0,   0,   0,   0,   0,   0,   0,\n",
       "          0,   0],\n",
       "       [  0,   0,   0,   0,   0,   0,   0,   0,   0,   0,   0,   0,   0,\n",
       "          0,   0,   0,   0,   0,   0,   0,   0,   0,   0,   0,   0,   0,\n",
       "          0,   0],\n",
       "       [  0,   0,   0,   0,   0,   0,   0,   0,   0,   0,   0,   0,   0,\n",
       "          0,   0,   0,   0,   0,   0,   0,   0,   0,   0,   0,   0,   0,\n",
       "          0,   0]], dtype=uint8)"
      ]
     },
     "execution_count": 10,
     "metadata": {},
     "output_type": "execute_result"
    }
   ],
   "source": [
    "X_train[0]"
   ]
  },
  {
   "cell_type": "code",
   "execution_count": 8,
   "metadata": {},
   "outputs": [
    {
     "data": {
      "text/plain": [
       "0"
      ]
     },
     "execution_count": 8,
     "metadata": {},
     "output_type": "execute_result"
    }
   ],
   "source": [
    "y_train[1]"
   ]
  },
  {
   "cell_type": "markdown",
   "metadata": {},
   "source": [
    "## Creating a validation set from the training set\n",
    "\n",
    "* Reserving first 5000 rows images for validation set.\n",
    "* Since we'll be training the neural network using gradient descent, we must scale the input features, i.e. we'll scale the intensities down to 0-1 range by dividing them by 255.0"
   ]
  },
  {
   "cell_type": "code",
   "execution_count": 47,
   "metadata": {},
   "outputs": [],
   "source": [
    "X_valid, X_train = X_train[:5000] / 255.0, X_train[5000:] / 255.0\n",
    "y_valid, y_train = y_train[:5000], y_train[5000:]\n",
    "X_test = X_test / 255.0"
   ]
  },
  {
   "cell_type": "code",
   "execution_count": 11,
   "metadata": {},
   "outputs": [],
   "source": [
    "class_names = [\"T-shirt/top\", \"Trouser\", \"Pullover\", \"Dress\", \"Coat\",\n",
    "               \"Sandal\", \"Shirt\", \"Sneaker\", \"Bag\", \"Ankle boot\"]"
   ]
  },
  {
   "cell_type": "code",
   "execution_count": 13,
   "metadata": {},
   "outputs": [
    {
     "data": {
      "text/plain": [
       "'T-shirt/top'"
      ]
     },
     "execution_count": 13,
     "metadata": {},
     "output_type": "execute_result"
    }
   ],
   "source": [
    "class_names[y_train[1]]"
   ]
  },
  {
   "cell_type": "code",
   "execution_count": 14,
   "metadata": {},
   "outputs": [],
   "source": [
    "import matplotlib.pyplot as plt\n",
    "\n",
    "%matplotlib inline"
   ]
  },
  {
   "cell_type": "code",
   "execution_count": 20,
   "metadata": {},
   "outputs": [
    {
     "data": {
      "image/png": "[encoded data removed]",
      "text/plain": [
       "<Figure size 432x288 with 1 Axes>"
      ]
     },
     "metadata": {
      "needs_background": "light"
     },
     "output_type": "display_data"
    }
   ],
   "source": [
    "plt.imshow(X_train[0], cmap='binary')\n",
    "plt.axis('off')\n",
    "plt.show()"
   ]
  },
  {
   "cell_type": "code",
   "execution_count": 22,
   "metadata": {},
   "outputs": [
    {
     "data": {
      "image/png": "[encoded data removed]",
      "text/plain": [
       "<Figure size 864x345.6 with 40 Axes>"
      ]
     },
     "metadata": {
      "needs_background": "light"
     },
     "output_type": "display_data"
    }
   ],
   "source": [
    "n_rows = 4\n",
    "n_cols = 10\n",
    "plt.figure(figsize=(n_cols * 1.2, n_rows * 1.2))\n",
    "for row in range(n_rows):\n",
    "    for col in range(n_cols):\n",
    "        index = n_cols * row + col\n",
    "        plt.subplot(n_rows, n_cols, index + 1)\n",
    "        plt.imshow(X_train[index], cmap=\"binary\", interpolation=\"nearest\")\n",
    "        plt.axis('off')\n",
    "        plt.title(class_names[y_train[index]], fontsize=12)\n",
    "plt.subplots_adjust(wspace=0.2, hspace=0.5)\n",
    "plt.show()"
   ]
  },
  {
   "cell_type": "markdown",
   "metadata": {},
   "source": [
    "## Defining Model with 2 Hidden Layer using Sequential API"
   ]
  },
  {
   "cell_type": "code",
   "execution_count": 23,
   "metadata": {},
   "outputs": [],
   "source": [
    "model = keras.models.Sequential([\n",
    "    keras.layers.Flatten(input_shape=[28, 28]), # input flatten layer\n",
    "    keras.layers.Dense(300, activation='relu'),\n",
    "    keras.layers.Dense(100, activation='relu'),\n",
    "    keras.layers.Dense(10, activation='softmax') # output layer\n",
    "])\n"
   ]
  },
  {
   "cell_type": "code",
   "execution_count": 24,
   "metadata": {},
   "outputs": [
    {
     "data": {
      "text/plain": [
       "[<tensorflow.python.keras.layers.core.Flatten at 0x7f3350ca35b0>,\n",
       " <tensorflow.python.keras.layers.core.Dense at 0x7f335119bdf0>,\n",
       " <tensorflow.python.keras.layers.core.Dense at 0x7f33510d6400>,\n",
       " <tensorflow.python.keras.layers.core.Dense at 0x7f33510d6cd0>]"
      ]
     },
     "execution_count": 24,
     "metadata": {},
     "output_type": "execute_result"
    }
   ],
   "source": [
    "model.layers"
   ]
  },
  {
   "cell_type": "code",
   "execution_count": 26,
   "metadata": {},
   "outputs": [
    {
     "name": "stdout",
     "output_type": "stream",
     "text": [
      "Model: \"sequential\"\n",
      "_________________________________________________________________\n",
      "Layer (type)                 Output Shape              Param #   \n",
      "=================================================================\n",
      "flatten (Flatten)            (None, 784)               0         \n",
      "_________________________________________________________________\n",
      "dense (Dense)                (None, 300)               235500    \n",
      "_________________________________________________________________\n",
      "dense_1 (Dense)              (None, 100)               30100     \n",
      "_________________________________________________________________\n",
      "dense_2 (Dense)              (None, 10)                1010      \n",
      "=================================================================\n",
      "Total params: 266,610\n",
      "Trainable params: 266,610\n",
      "Non-trainable params: 0\n",
      "_________________________________________________________________\n"
     ]
    }
   ],
   "source": [
    "model.summary()"
   ]
  },
  {
   "cell_type": "code",
   "execution_count": 38,
   "metadata": {},
   "outputs": [],
   "source": [
    "hidden_1 = model.layers[1]"
   ]
  },
  {
   "cell_type": "code",
   "execution_count": 39,
   "metadata": {},
   "outputs": [
    {
     "data": {
      "text/plain": [
       "'dense'"
      ]
     },
     "execution_count": 39,
     "metadata": {},
     "output_type": "execute_result"
    }
   ],
   "source": [
    "hidden_1.name"
   ]
  },
  {
   "cell_type": "code",
   "execution_count": 40,
   "metadata": {},
   "outputs": [],
   "source": [
    "## learning weights and biases\n",
    "weights, biases = hidden_1.get_weights()"
   ]
  },
  {
   "cell_type": "code",
   "execution_count": 41,
   "metadata": {},
   "outputs": [
    {
     "data": {
      "text/plain": [
       "array([[ 0.03180294, -0.03280068,  0.00492309, ..., -0.05851386,\n",
       "         0.03755169, -0.00541918],\n",
       "       [-0.05827887,  0.050328  , -0.04670989, ..., -0.00641058,\n",
       "         0.02874739,  0.06118342],\n",
       "       [-0.006658  ,  0.05581377, -0.04039989, ..., -0.02241705,\n",
       "         0.00018178,  0.05428068],\n",
       "       ...,\n",
       "       [ 0.06301776, -0.0497018 ,  0.01431972, ..., -0.03671221,\n",
       "         0.01287489,  0.02149443],\n",
       "       [ 0.02115034, -0.00462861, -0.06134637, ..., -0.01771066,\n",
       "        -0.01065635, -0.0152724 ],\n",
       "       [ 0.01141623,  0.00428621,  0.04291796, ...,  0.01292004,\n",
       "        -0.06635474,  0.07050899]], dtype=float32)"
      ]
     },
     "execution_count": 41,
     "metadata": {},
     "output_type": "execute_result"
    }
   ],
   "source": [
    "weights"
   ]
  },
  {
   "cell_type": "code",
   "execution_count": 42,
   "metadata": {},
   "outputs": [
    {
     "data": {
      "text/plain": [
       "array([0., 0., 0., 0., 0., 0., 0., 0., 0., 0., 0., 0., 0., 0., 0., 0., 0.,\n",
       "       0., 0., 0., 0., 0., 0., 0., 0., 0., 0., 0., 0., 0., 0., 0., 0., 0.,\n",
       "       0., 0., 0., 0., 0., 0., 0., 0., 0., 0., 0., 0., 0., 0., 0., 0., 0.,\n",
       "       0., 0., 0., 0., 0., 0., 0., 0., 0., 0., 0., 0., 0., 0., 0., 0., 0.,\n",
       "       0., 0., 0., 0., 0., 0., 0., 0., 0., 0., 0., 0., 0., 0., 0., 0., 0.,\n",
       "       0., 0., 0., 0., 0., 0., 0., 0., 0., 0., 0., 0., 0., 0., 0., 0., 0.,\n",
       "       0., 0., 0., 0., 0., 0., 0., 0., 0., 0., 0., 0., 0., 0., 0., 0., 0.,\n",
       "       0., 0., 0., 0., 0., 0., 0., 0., 0., 0., 0., 0., 0., 0., 0., 0., 0.,\n",
       "       0., 0., 0., 0., 0., 0., 0., 0., 0., 0., 0., 0., 0., 0., 0., 0., 0.,\n",
       "       0., 0., 0., 0., 0., 0., 0., 0., 0., 0., 0., 0., 0., 0., 0., 0., 0.,\n",
       "       0., 0., 0., 0., 0., 0., 0., 0., 0., 0., 0., 0., 0., 0., 0., 0., 0.,\n",
       "       0., 0., 0., 0., 0., 0., 0., 0., 0., 0., 0., 0., 0., 0., 0., 0., 0.,\n",
       "       0., 0., 0., 0., 0., 0., 0., 0., 0., 0., 0., 0., 0., 0., 0., 0., 0.,\n",
       "       0., 0., 0., 0., 0., 0., 0., 0., 0., 0., 0., 0., 0., 0., 0., 0., 0.,\n",
       "       0., 0., 0., 0., 0., 0., 0., 0., 0., 0., 0., 0., 0., 0., 0., 0., 0.,\n",
       "       0., 0., 0., 0., 0., 0., 0., 0., 0., 0., 0., 0., 0., 0., 0., 0., 0.,\n",
       "       0., 0., 0., 0., 0., 0., 0., 0., 0., 0., 0., 0., 0., 0., 0., 0., 0.,\n",
       "       0., 0., 0., 0., 0., 0., 0., 0., 0., 0., 0.], dtype=float32)"
      ]
     },
     "execution_count": 42,
     "metadata": {},
     "output_type": "execute_result"
    }
   ],
   "source": [
    "biases"
   ]
  },
  {
   "cell_type": "markdown",
   "metadata": {},
   "source": [
    "## Compiling the model\n",
    "\n",
    "1. **Loss**: we use the \"sparse_categorical_crossentropy\" loss because we have sparse labels (i.e., for each instance, there is just a target class index, from 0 to 9 in this case), and the classes are exclusive.\n",
    "2. **Optimizer**: \"sgd\" means that we will train the model using simple Stochastic Gradient Descent. Bsically, Keras will perform the backpropagation algorithm as discussed.\n",
    "3. **Metrics**: Since this is a classification problem, it'd be useful to measure the accuracy of the model."
   ]
  },
  {
   "cell_type": "code",
   "execution_count": 44,
   "metadata": {},
   "outputs": [],
   "source": [
    "model.compile(loss=\"sparse_categorical_crossentropy\",\n",
    "              optimizer=\"sgd\",\n",
    "              metrics=[\"accuracy\"])"
   ]
  },
  {
   "cell_type": "code",
   "execution_count": 48,
   "metadata": {},
   "outputs": [
    {
     "name": "stdout",
     "output_type": "stream",
     "text": [
      "Epoch 1/30\n",
      "1719/1719 [==============================] - 2s 1ms/step - loss: 0.7198 - accuracy: 0.7645 - val_loss: 0.5518 - val_accuracy: 0.8010\n",
      "Epoch 2/30\n",
      "1719/1719 [==============================] - 2s 1ms/step - loss: 0.4890 - accuracy: 0.8300 - val_loss: 0.4410 - val_accuracy: 0.8538\n",
      "Epoch 3/30\n",
      "1719/1719 [==============================] - 2s 1ms/step - loss: 0.4425 - accuracy: 0.8459 - val_loss: 0.4194 - val_accuracy: 0.8586\n",
      "Epoch 4/30\n",
      "1719/1719 [==============================] - 2s 1ms/step - loss: 0.4147 - accuracy: 0.8538 - val_loss: 0.4020 - val_accuracy: 0.8620\n",
      "Epoch 5/30\n",
      "1719/1719 [==============================] - 2s 998us/step - loss: 0.3946 - accuracy: 0.8617 - val_loss: 0.4189 - val_accuracy: 0.8530\n",
      "Epoch 6/30\n",
      "1719/1719 [==============================] - 2s 996us/step - loss: 0.3782 - accuracy: 0.8670 - val_loss: 0.3692 - val_accuracy: 0.8752\n",
      "Epoch 7/30\n",
      "1719/1719 [==============================] - 2s 1ms/step - loss: 0.3633 - accuracy: 0.8705 - val_loss: 0.3695 - val_accuracy: 0.8724\n",
      "Epoch 8/30\n",
      "1719/1719 [==============================] - 2s 993us/step - loss: 0.3515 - accuracy: 0.8758 - val_loss: 0.3700 - val_accuracy: 0.8732\n",
      "Epoch 9/30\n",
      "1719/1719 [==============================] - 2s 1ms/step - loss: 0.3414 - accuracy: 0.8787 - val_loss: 0.3667 - val_accuracy: 0.8722\n",
      "Epoch 10/30\n",
      "1719/1719 [==============================] - 2s 1ms/step - loss: 0.3317 - accuracy: 0.8813 - val_loss: 0.3476 - val_accuracy: 0.8796\n",
      "Epoch 11/30\n",
      "1719/1719 [==============================] - 2s 1ms/step - loss: 0.3225 - accuracy: 0.8847 - val_loss: 0.3492 - val_accuracy: 0.8790\n",
      "Epoch 12/30\n",
      "1719/1719 [==============================] - 2s 1ms/step - loss: 0.3149 - accuracy: 0.8871 - val_loss: 0.3315 - val_accuracy: 0.8860\n",
      "Epoch 13/30\n",
      "1719/1719 [==============================] - 2s 983us/step - loss: 0.3078 - accuracy: 0.8893 - val_loss: 0.3417 - val_accuracy: 0.8800\n",
      "Epoch 14/30\n",
      "1719/1719 [==============================] - 2s 998us/step - loss: 0.3010 - accuracy: 0.8924 - val_loss: 0.3230 - val_accuracy: 0.8866\n",
      "Epoch 15/30\n",
      "1719/1719 [==============================] - 2s 981us/step - loss: 0.2948 - accuracy: 0.8933 - val_loss: 0.3249 - val_accuracy: 0.8846\n",
      "Epoch 16/30\n",
      "1719/1719 [==============================] - 2s 993us/step - loss: 0.2881 - accuracy: 0.8968 - val_loss: 0.3314 - val_accuracy: 0.8804\n",
      "Epoch 17/30\n",
      "1719/1719 [==============================] - 2s 1ms/step - loss: 0.2830 - accuracy: 0.8976 - val_loss: 0.3129 - val_accuracy: 0.8876\n",
      "Epoch 18/30\n",
      "1719/1719 [==============================] - 2s 1ms/step - loss: 0.2760 - accuracy: 0.9006 - val_loss: 0.3253 - val_accuracy: 0.8810\n",
      "Epoch 19/30\n",
      "1719/1719 [==============================] - 2s 1ms/step - loss: 0.2712 - accuracy: 0.9018 - val_loss: 0.3250 - val_accuracy: 0.8826\n",
      "Epoch 20/30\n",
      "1719/1719 [==============================] - 2s 979us/step - loss: 0.2674 - accuracy: 0.9037 - val_loss: 0.3155 - val_accuracy: 0.8872\n",
      "Epoch 21/30\n",
      "1719/1719 [==============================] - 2s 991us/step - loss: 0.2621 - accuracy: 0.9058 - val_loss: 0.3072 - val_accuracy: 0.8886\n",
      "Epoch 22/30\n",
      "1719/1719 [==============================] - 2s 982us/step - loss: 0.2570 - accuracy: 0.9074 - val_loss: 0.3018 - val_accuracy: 0.8916\n",
      "Epoch 23/30\n",
      "1719/1719 [==============================] - 2s 986us/step - loss: 0.2527 - accuracy: 0.9091 - val_loss: 0.3078 - val_accuracy: 0.8946\n",
      "Epoch 24/30\n",
      "1719/1719 [==============================] - 2s 970us/step - loss: 0.2475 - accuracy: 0.9115 - val_loss: 0.3037 - val_accuracy: 0.8922\n",
      "Epoch 25/30\n",
      "1719/1719 [==============================] - 2s 997us/step - loss: 0.2445 - accuracy: 0.9111 - val_loss: 0.3305 - val_accuracy: 0.8846\n",
      "Epoch 26/30\n",
      "1719/1719 [==============================] - 2s 995us/step - loss: 0.2402 - accuracy: 0.9145 - val_loss: 0.3043 - val_accuracy: 0.8918\n",
      "Epoch 27/30\n",
      "1719/1719 [==============================] - 2s 993us/step - loss: 0.2354 - accuracy: 0.9146 - val_loss: 0.3049 - val_accuracy: 0.8922\n",
      "Epoch 28/30\n",
      "1719/1719 [==============================] - 2s 1ms/step - loss: 0.2322 - accuracy: 0.9172 - val_loss: 0.3051 - val_accuracy: 0.8946\n",
      "Epoch 29/30\n",
      "1719/1719 [==============================] - 2s 995us/step - loss: 0.2281 - accuracy: 0.9171 - val_loss: 0.2902 - val_accuracy: 0.8940\n",
      "Epoch 30/30\n",
      "1719/1719 [==============================] - 2s 992us/step - loss: 0.2263 - accuracy: 0.9183 - val_loss: 0.2939 - val_accuracy: 0.8962\n"
     ]
    }
   ],
   "source": [
    " history = model.fit(X_train, y_train, epochs=30, \n",
    "                     validation_data=(X_valid, y_valid))"
   ]
  },
  {
   "cell_type": "code",
   "execution_count": 49,
   "metadata": {},
   "outputs": [
    {
     "name": "stdout",
     "output_type": "stream",
     "text": [
      "313/313 [==============================] - 0s 543us/step - loss: 0.3251 - accuracy: 0.8818\n"
     ]
    },
    {
     "data": {
      "text/plain": [
       "[0.32513371109962463, 0.8817999958992004]"
      ]
     },
     "execution_count": 49,
     "metadata": {},
     "output_type": "execute_result"
    }
   ],
   "source": [
    "model.evaluate(X_test, y_test)"
   ]
  },
  {
   "cell_type": "markdown",
   "metadata": {},
   "source": [
    "## Making a few predictions"
   ]
  },
  {
   "cell_type": "code",
   "execution_count": 50,
   "metadata": {},
   "outputs": [
    {
     "data": {
      "text/plain": [
       "array([[0.  , 0.  , 0.  , 0.  , 0.  , 0.01, 0.  , 0.03, 0.  , 0.96],\n",
       "       [0.  , 0.  , 0.98, 0.  , 0.01, 0.  , 0.  , 0.  , 0.  , 0.  ],\n",
       "       [0.  , 1.  , 0.  , 0.  , 0.  , 0.  , 0.  , 0.  , 0.  , 0.  ],\n",
       "       [0.  , 1.  , 0.  , 0.  , 0.  , 0.  , 0.  , 0.  , 0.  , 0.  ],\n",
       "       [0.16, 0.  , 0.01, 0.  , 0.01, 0.  , 0.82, 0.  , 0.  , 0.  ]],\n",
       "      dtype=float32)"
      ]
     },
     "execution_count": 50,
     "metadata": {},
     "output_type": "execute_result"
    }
   ],
   "source": [
    "X_sample = X_test[:5]\n",
    "y_proba = model.predict(X_sample)\n",
    "y_proba.round(2)"
   ]
  },
  {
   "cell_type": "code",
   "execution_count": 52,
   "metadata": {},
   "outputs": [
    {
     "data": {
      "text/plain": [
       "array([9, 2, 1, 1, 6])"
      ]
     },
     "execution_count": 52,
     "metadata": {},
     "output_type": "execute_result"
    }
   ],
   "source": [
    "y_pred = model.predict_classes(X_sample)\n",
    "y_pred"
   ]
  },
  {
   "cell_type": "code",
   "execution_count": 56,
   "metadata": {},
   "outputs": [
    {
     "data": {
      "text/plain": [
       "array(['Ankle boot', 'Pullover', 'Trouser', 'Trouser', 'Shirt'],\n",
       "      dtype='<U11')"
      ]
     },
     "execution_count": 56,
     "metadata": {},
     "output_type": "execute_result"
    }
   ],
   "source": [
    "np.array(class_names)[y_pred]"
   ]
  },
  {
   "cell_type": "code",
   "execution_count": 60,
   "metadata": {},
   "outputs": [
    {
     "data": {
      "text/plain": [
       "array(['Ankle boot', 'Pullover', 'Trouser', 'Trouser', 'Shirt'],\n",
       "      dtype='<U11')"
      ]
     },
     "execution_count": 60,
     "metadata": {},
     "output_type": "execute_result"
    }
   ],
   "source": [
    "y_sample = y_test[:5]\n",
    "np.array(class_names)[y_sample]"
   ]
  },
  {
   "cell_type": "code",
   "execution_count": null,
   "metadata": {},
   "outputs": [],
   "source": []
  }
 ],
 "metadata": {
  "kernelspec": {
   "display_name": "Python 3",
   "language": "python",
   "name": "python3"
  },
  "language_info": {
   "codemirror_mode": {
    "name": "ipython",
    "version": 3
   },
   "file_extension": ".py",
   "mimetype": "text/x-python",
   "name": "python",
   "nbconvert_exporter": "python",
   "pygments_lexer": "ipython3",
   "version": "3.8.2"
  }
 },
 "nbformat": 4,
 "nbformat_minor": 4
}
