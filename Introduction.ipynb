{
 "cells": [
  {
   "cell_type": "markdown",
   "metadata": {},
   "source": [
    "# Solving a simple Problem with Neural Network"
   ]
  },
  {
   "cell_type": "code",
   "execution_count": 3,
   "metadata": {},
   "outputs": [
    {
     "name": "stdout",
     "output_type": "stream",
     "text": [
      "Tensorflow Version:  2.3.0\n",
      "Keras Version:  2.4.0\n"
     ]
    }
   ],
   "source": [
    "##importing the main deep learning \n",
    "import tensorflow as tf\n",
    "from tensorflow import keras\n",
    "\n",
    "print(\"Tensorflow Version: \", tf.__version__)\n",
    "print(\"Keras Version: \", keras.__version__)\n"
   ]
  },
  {
   "cell_type": "code",
   "execution_count": 4,
   "metadata": {},
   "outputs": [],
   "source": [
    "import numpy as np\n",
    "import pandas as pd"
   ]
  },
  {
   "cell_type": "code",
   "execution_count": 5,
   "metadata": {
    "scrolled": false
   },
   "outputs": [
    {
     "name": "stdout",
     "output_type": "stream",
     "text": [
      "Epoch 1/100\n",
      "1/1 [==============================] - 0s 886us/step - loss: 79468.8203\n",
      "Epoch 2/100\n",
      "1/1 [==============================] - 0s 654us/step - loss: 21552.4062\n",
      "Epoch 3/100\n",
      "1/1 [==============================] - 0s 583us/step - loss: 5945.7378\n",
      "Epoch 4/100\n",
      "1/1 [==============================] - 0s 607us/step - loss: 1739.7407\n",
      "Epoch 5/100\n",
      "1/1 [==============================] - 0s 440us/step - loss: 605.7371\n",
      "Epoch 6/100\n",
      "1/1 [==============================] - 0s 622us/step - loss: 299.5081\n",
      "Epoch 7/100\n",
      "1/1 [==============================] - 0s 563us/step - loss: 216.3319\n",
      "Epoch 8/100\n",
      "1/1 [==============================] - 0s 479us/step - loss: 193.2623\n",
      "Epoch 9/100\n",
      "1/1 [==============================] - 0s 523us/step - loss: 186.3917\n",
      "Epoch 10/100\n",
      "1/1 [==============================] - 0s 517us/step - loss: 183.8896\n",
      "Epoch 11/100\n",
      "1/1 [==============================] - 0s 977us/step - loss: 182.5675\n",
      "Epoch 12/100\n",
      "1/1 [==============================] - 0s 537us/step - loss: 181.5668\n",
      "Epoch 13/100\n",
      "1/1 [==============================] - 0s 427us/step - loss: 180.6556\n",
      "Epoch 14/100\n",
      "1/1 [==============================] - 0s 418us/step - loss: 179.7719\n",
      "Epoch 15/100\n",
      "1/1 [==============================] - 0s 427us/step - loss: 178.8984\n",
      "Epoch 16/100\n",
      "1/1 [==============================] - 0s 436us/step - loss: 178.0308\n",
      "Epoch 17/100\n",
      "1/1 [==============================] - 0s 531us/step - loss: 177.1679\n",
      "Epoch 18/100\n",
      "1/1 [==============================] - 0s 427us/step - loss: 176.3093\n",
      "Epoch 19/100\n",
      "1/1 [==============================] - 0s 502us/step - loss: 175.4549\n",
      "Epoch 20/100\n",
      "1/1 [==============================] - 0s 505us/step - loss: 174.6045\n",
      "Epoch 21/100\n",
      "1/1 [==============================] - 0s 447us/step - loss: 173.7584\n",
      "Epoch 22/100\n",
      "1/1 [==============================] - 0s 420us/step - loss: 172.9162\n",
      "Epoch 23/100\n",
      "1/1 [==============================] - 0s 413us/step - loss: 172.0784\n",
      "Epoch 24/100\n",
      "1/1 [==============================] - 0s 424us/step - loss: 171.2446\n",
      "Epoch 25/100\n",
      "1/1 [==============================] - 0s 851us/step - loss: 170.4147\n",
      "Epoch 26/100\n",
      "1/1 [==============================] - 0s 597us/step - loss: 169.5889\n",
      "Epoch 27/100\n",
      "1/1 [==============================] - 0s 493us/step - loss: 168.7670\n",
      "Epoch 28/100\n",
      "1/1 [==============================] - 0s 429us/step - loss: 167.9493\n",
      "Epoch 29/100\n",
      "1/1 [==============================] - 0s 627us/step - loss: 167.1354\n",
      "Epoch 30/100\n",
      "1/1 [==============================] - 0s 418us/step - loss: 166.3253\n",
      "Epoch 31/100\n",
      "1/1 [==============================] - 0s 490us/step - loss: 165.5192\n",
      "Epoch 32/100\n",
      "1/1 [==============================] - 0s 455us/step - loss: 164.7171\n",
      "Epoch 33/100\n",
      "1/1 [==============================] - 0s 426us/step - loss: 163.9190\n",
      "Epoch 34/100\n",
      "1/1 [==============================] - 0s 423us/step - loss: 163.1245\n",
      "Epoch 35/100\n",
      "1/1 [==============================] - 0s 496us/step - loss: 162.3340\n",
      "Epoch 36/100\n",
      "1/1 [==============================] - 0s 432us/step - loss: 161.5475\n",
      "Epoch 37/100\n",
      "1/1 [==============================] - 0s 499us/step - loss: 160.7646\n",
      "Epoch 38/100\n",
      "1/1 [==============================] - 0s 494us/step - loss: 159.9853\n",
      "Epoch 39/100\n",
      "1/1 [==============================] - 0s 503us/step - loss: 159.2100\n",
      "Epoch 40/100\n",
      "1/1 [==============================] - 0s 418us/step - loss: 158.4384\n",
      "Epoch 41/100\n",
      "1/1 [==============================] - 0s 495us/step - loss: 157.6708\n",
      "Epoch 42/100\n",
      "1/1 [==============================] - 0s 543us/step - loss: 156.9066\n",
      "Epoch 43/100\n",
      "1/1 [==============================] - 0s 482us/step - loss: 156.1463\n",
      "Epoch 44/100\n",
      "1/1 [==============================] - 0s 503us/step - loss: 155.3895\n",
      "Epoch 45/100\n",
      "1/1 [==============================] - 0s 488us/step - loss: 154.6366\n",
      "Epoch 46/100\n",
      "1/1 [==============================] - 0s 505us/step - loss: 153.8874\n",
      "Epoch 47/100\n",
      "1/1 [==============================] - 0s 400us/step - loss: 153.1416\n",
      "Epoch 48/100\n",
      "1/1 [==============================] - 0s 411us/step - loss: 152.3993\n",
      "Epoch 49/100\n",
      "1/1 [==============================] - 0s 419us/step - loss: 151.6607\n",
      "Epoch 50/100\n",
      "1/1 [==============================] - 0s 411us/step - loss: 150.9259\n",
      "Epoch 51/100\n",
      "1/1 [==============================] - 0s 422us/step - loss: 150.1943\n",
      "Epoch 52/100\n",
      "1/1 [==============================] - 0s 420us/step - loss: 149.4667\n",
      "Epoch 53/100\n",
      "1/1 [==============================] - 0s 436us/step - loss: 148.7422\n",
      "Epoch 54/100\n",
      "1/1 [==============================] - 0s 496us/step - loss: 148.0216\n",
      "Epoch 55/100\n",
      "1/1 [==============================] - 0s 499us/step - loss: 147.3041\n",
      "Epoch 56/100\n",
      "1/1 [==============================] - 0s 485us/step - loss: 146.5903\n",
      "Epoch 57/100\n",
      "1/1 [==============================] - 0s 525us/step - loss: 145.8799\n",
      "Epoch 58/100\n",
      "1/1 [==============================] - 0s 492us/step - loss: 145.1730\n",
      "Epoch 59/100\n",
      "1/1 [==============================] - 0s 520us/step - loss: 144.4695\n",
      "Epoch 60/100\n",
      "1/1 [==============================] - 0s 441us/step - loss: 143.7694\n",
      "Epoch 61/100\n",
      "1/1 [==============================] - 0s 477us/step - loss: 143.0728\n",
      "Epoch 62/100\n",
      "1/1 [==============================] - 0s 450us/step - loss: 142.3794\n",
      "Epoch 63/100\n",
      "1/1 [==============================] - 0s 470us/step - loss: 141.6893\n",
      "Epoch 64/100\n",
      "1/1 [==============================] - 0s 397us/step - loss: 141.0027\n",
      "Epoch 65/100\n",
      "1/1 [==============================] - 0s 408us/step - loss: 140.3194\n",
      "Epoch 66/100\n",
      "1/1 [==============================] - 0s 414us/step - loss: 139.6394\n",
      "Epoch 67/100\n",
      "1/1 [==============================] - 0s 416us/step - loss: 138.9628\n",
      "Epoch 68/100\n",
      "1/1 [==============================] - 0s 532us/step - loss: 138.2892\n",
      "Epoch 69/100\n",
      "1/1 [==============================] - 0s 607us/step - loss: 137.6191\n",
      "Epoch 70/100\n",
      "1/1 [==============================] - 0s 493us/step - loss: 136.9523\n",
      "Epoch 71/100\n",
      "1/1 [==============================] - 0s 493us/step - loss: 136.2884\n",
      "Epoch 72/100\n",
      "1/1 [==============================] - 0s 559us/step - loss: 135.6282\n",
      "Epoch 73/100\n",
      "1/1 [==============================] - 0s 427us/step - loss: 134.9711\n",
      "Epoch 74/100\n",
      "1/1 [==============================] - 0s 422us/step - loss: 134.3167\n",
      "Epoch 75/100\n",
      "1/1 [==============================] - 0s 505us/step - loss: 133.6658\n",
      "Epoch 76/100\n",
      "1/1 [==============================] - 0s 432us/step - loss: 133.0181\n",
      "Epoch 77/100\n",
      "1/1 [==============================] - 0s 458us/step - loss: 132.3735\n",
      "Epoch 78/100\n",
      "1/1 [==============================] - 0s 435us/step - loss: 131.7319\n",
      "Epoch 79/100\n",
      "1/1 [==============================] - 0s 443us/step - loss: 131.0936\n",
      "Epoch 80/100\n",
      "1/1 [==============================] - 0s 421us/step - loss: 130.4584\n",
      "Epoch 81/100\n",
      "1/1 [==============================] - 0s 421us/step - loss: 129.8261\n",
      "Epoch 82/100\n",
      "1/1 [==============================] - 0s 412us/step - loss: 129.1971\n",
      "Epoch 83/100\n",
      "1/1 [==============================] - 0s 406us/step - loss: 128.5709\n",
      "Epoch 84/100\n",
      "1/1 [==============================] - 0s 412us/step - loss: 127.9479\n",
      "Epoch 85/100\n",
      "1/1 [==============================] - 0s 450us/step - loss: 127.3278\n",
      "Epoch 86/100\n",
      "1/1 [==============================] - 0s 407us/step - loss: 126.7108\n",
      "Epoch 87/100\n",
      "1/1 [==============================] - 0s 402us/step - loss: 126.0967\n",
      "Epoch 88/100\n",
      "1/1 [==============================] - 0s 450us/step - loss: 125.4857\n",
      "Epoch 89/100\n",
      "1/1 [==============================] - 0s 390us/step - loss: 124.8777\n",
      "Epoch 90/100\n",
      "1/1 [==============================] - 0s 731us/step - loss: 124.2723\n",
      "Epoch 91/100\n",
      "1/1 [==============================] - 0s 398us/step - loss: 123.6701\n",
      "Epoch 92/100\n",
      "1/1 [==============================] - 0s 408us/step - loss: 123.0707\n",
      "Epoch 93/100\n",
      "1/1 [==============================] - 0s 403us/step - loss: 122.4745\n",
      "Epoch 94/100\n",
      "1/1 [==============================] - 0s 392us/step - loss: 121.8809\n",
      "Epoch 95/100\n",
      "1/1 [==============================] - 0s 406us/step - loss: 121.2902\n",
      "Epoch 96/100\n",
      "1/1 [==============================] - 0s 397us/step - loss: 120.7024\n",
      "Epoch 97/100\n",
      "1/1 [==============================] - 0s 414us/step - loss: 120.1176\n",
      "Epoch 98/100\n",
      "1/1 [==============================] - 0s 412us/step - loss: 119.5353\n",
      "Epoch 99/100\n"
     ]
    },
    {
     "name": "stdout",
     "output_type": "stream",
     "text": [
      "1/1 [==============================] - 0s 486us/step - loss: 118.9563\n",
      "Epoch 100/100\n",
      "1/1 [==============================] - 0s 405us/step - loss: 118.3797\n",
      "[[579.13885]]\n"
     ]
    }
   ],
   "source": [
    "bedrooms = np.array([2,3,4,5,6,7])\n",
    "house_prices = np.array([150, 200, 250, 300, 350, 400])\n",
    "\n",
    "model = tf.keras.Sequential([\n",
    "    tf.keras.layers.Dense(units = 1, input_shape=[1])\n",
    "])\n",
    "\n",
    "model.compile(optimizer='sgd', loss='mean_squared_error')\n",
    "model.fit(bedrooms, house_prices, epochs=100)\n",
    "\n",
    "print(model.predict([10]))\n"
   ]
  },
  {
   "cell_type": "markdown",
   "metadata": {},
   "source": [
    "\n",
    "# Image Classification on Fashion MNIST dataset\n"
   ]
  },
  {
   "cell_type": "code",
   "execution_count": 6,
   "metadata": {},
   "outputs": [],
   "source": [
    "##loading fashion MNIST dataset from tensorflow data API\n",
    "fashion_mnist = keras.datasets.fashion_mnist\n",
    "(X_train, y_train), (X_test, y_test) = fashion_mnist.load_data()"
   ]
  },
  {
   "cell_type": "code",
   "execution_count": null,
   "metadata": {},
   "outputs": [],
   "source": []
  },
  {
   "cell_type": "code",
   "execution_count": 7,
   "metadata": {},
   "outputs": [
    {
     "data": {
      "text/plain": [
       "(60000, 28, 28)"
      ]
     },
     "execution_count": 7,
     "metadata": {},
     "output_type": "execute_result"
    }
   ],
   "source": [
    "X_train.shape"
   ]
  },
  {
   "cell_type": "code",
   "execution_count": 8,
   "metadata": {},
   "outputs": [
    {
     "data": {
      "text/plain": [
       "(10000, 28, 28)"
      ]
     },
     "execution_count": 8,
     "metadata": {},
     "output_type": "execute_result"
    }
   ],
   "source": [
    "X_test.shape"
   ]
  },
  {
   "cell_type": "code",
   "execution_count": 9,
   "metadata": {},
   "outputs": [
    {
     "data": {
      "text/plain": [
       "array([[  0,   0,   0,   0,   0,   0,   0,   0,   0,   0,   0,   0,   0,\n",
       "          0,   0,   0,   0,   0,   0,   0,   0,   0,   0,   0,   0,   0,\n",
       "          0,   0],\n",
       "       [  0,   0,   0,   0,   0,   0,   0,   0,   0,   0,   0,   0,   0,\n",
       "          0,   0,   0,   0,   0,   0,   0,   0,   0,   0,   0,   0,   0,\n",
       "          0,   0],\n",
       "       [  0,   0,   0,   0,   0,   0,   0,   0,   0,   0,   0,   0,   0,\n",
       "          0,   0,   0,   0,   0,   0,   0,   0,   0,   0,   0,   0,   0,\n",
       "          0,   0],\n",
       "       [  0,   0,   0,   0,   0,   0,   0,   0,   0,   0,   0,   0,   1,\n",
       "          0,   0,  13,  73,   0,   0,   1,   4,   0,   0,   0,   0,   1,\n",
       "          1,   0],\n",
       "       [  0,   0,   0,   0,   0,   0,   0,   0,   0,   0,   0,   0,   3,\n",
       "          0,  36, 136, 127,  62,  54,   0,   0,   0,   1,   3,   4,   0,\n",
       "          0,   3],\n",
       "       [  0,   0,   0,   0,   0,   0,   0,   0,   0,   0,   0,   0,   6,\n",
       "          0, 102, 204, 176, 134, 144, 123,  23,   0,   0,   0,   0,  12,\n",
       "         10,   0],\n",
       "       [  0,   0,   0,   0,   0,   0,   0,   0,   0,   0,   0,   0,   0,\n",
       "          0, 155, 236, 207, 178, 107, 156, 161, 109,  64,  23,  77, 130,\n",
       "         72,  15],\n",
       "       [  0,   0,   0,   0,   0,   0,   0,   0,   0,   0,   0,   1,   0,\n",
       "         69, 207, 223, 218, 216, 216, 163, 127, 121, 122, 146, 141,  88,\n",
       "        172,  66],\n",
       "       [  0,   0,   0,   0,   0,   0,   0,   0,   0,   1,   1,   1,   0,\n",
       "        200, 232, 232, 233, 229, 223, 223, 215, 213, 164, 127, 123, 196,\n",
       "        229,   0],\n",
       "       [  0,   0,   0,   0,   0,   0,   0,   0,   0,   0,   0,   0,   0,\n",
       "        183, 225, 216, 223, 228, 235, 227, 224, 222, 224, 221, 223, 245,\n",
       "        173,   0],\n",
       "       [  0,   0,   0,   0,   0,   0,   0,   0,   0,   0,   0,   0,   0,\n",
       "        193, 228, 218, 213, 198, 180, 212, 210, 211, 213, 223, 220, 243,\n",
       "        202,   0],\n",
       "       [  0,   0,   0,   0,   0,   0,   0,   0,   0,   1,   3,   0,  12,\n",
       "        219, 220, 212, 218, 192, 169, 227, 208, 218, 224, 212, 226, 197,\n",
       "        209,  52],\n",
       "       [  0,   0,   0,   0,   0,   0,   0,   0,   0,   0,   6,   0,  99,\n",
       "        244, 222, 220, 218, 203, 198, 221, 215, 213, 222, 220, 245, 119,\n",
       "        167,  56],\n",
       "       [  0,   0,   0,   0,   0,   0,   0,   0,   0,   4,   0,   0,  55,\n",
       "        236, 228, 230, 228, 240, 232, 213, 218, 223, 234, 217, 217, 209,\n",
       "         92,   0],\n",
       "       [  0,   0,   1,   4,   6,   7,   2,   0,   0,   0,   0,   0, 237,\n",
       "        226, 217, 223, 222, 219, 222, 221, 216, 223, 229, 215, 218, 255,\n",
       "         77,   0],\n",
       "       [  0,   3,   0,   0,   0,   0,   0,   0,   0,  62, 145, 204, 228,\n",
       "        207, 213, 221, 218, 208, 211, 218, 224, 223, 219, 215, 224, 244,\n",
       "        159,   0],\n",
       "       [  0,   0,   0,   0,  18,  44,  82, 107, 189, 228, 220, 222, 217,\n",
       "        226, 200, 205, 211, 230, 224, 234, 176, 188, 250, 248, 233, 238,\n",
       "        215,   0],\n",
       "       [  0,  57, 187, 208, 224, 221, 224, 208, 204, 214, 208, 209, 200,\n",
       "        159, 245, 193, 206, 223, 255, 255, 221, 234, 221, 211, 220, 232,\n",
       "        246,   0],\n",
       "       [  3, 202, 228, 224, 221, 211, 211, 214, 205, 205, 205, 220, 240,\n",
       "         80, 150, 255, 229, 221, 188, 154, 191, 210, 204, 209, 222, 228,\n",
       "        225,   0],\n",
       "       [ 98, 233, 198, 210, 222, 229, 229, 234, 249, 220, 194, 215, 217,\n",
       "        241,  65,  73, 106, 117, 168, 219, 221, 215, 217, 223, 223, 224,\n",
       "        229,  29],\n",
       "       [ 75, 204, 212, 204, 193, 205, 211, 225, 216, 185, 197, 206, 198,\n",
       "        213, 240, 195, 227, 245, 239, 223, 218, 212, 209, 222, 220, 221,\n",
       "        230,  67],\n",
       "       [ 48, 203, 183, 194, 213, 197, 185, 190, 194, 192, 202, 214, 219,\n",
       "        221, 220, 236, 225, 216, 199, 206, 186, 181, 177, 172, 181, 205,\n",
       "        206, 115],\n",
       "       [  0, 122, 219, 193, 179, 171, 183, 196, 204, 210, 213, 207, 211,\n",
       "        210, 200, 196, 194, 191, 195, 191, 198, 192, 176, 156, 167, 177,\n",
       "        210,  92],\n",
       "       [  0,   0,  74, 189, 212, 191, 175, 172, 175, 181, 185, 188, 189,\n",
       "        188, 193, 198, 204, 209, 210, 210, 211, 188, 188, 194, 192, 216,\n",
       "        170,   0],\n",
       "       [  2,   0,   0,   0,  66, 200, 222, 237, 239, 242, 246, 243, 244,\n",
       "        221, 220, 193, 191, 179, 182, 182, 181, 176, 166, 168,  99,  58,\n",
       "          0,   0],\n",
       "       [  0,   0,   0,   0,   0,   0,   0,  40,  61,  44,  72,  41,  35,\n",
       "          0,   0,   0,   0,   0,   0,   0,   0,   0,   0,   0,   0,   0,\n",
       "          0,   0],\n",
       "       [  0,   0,   0,   0,   0,   0,   0,   0,   0,   0,   0,   0,   0,\n",
       "          0,   0,   0,   0,   0,   0,   0,   0,   0,   0,   0,   0,   0,\n",
       "          0,   0],\n",
       "       [  0,   0,   0,   0,   0,   0,   0,   0,   0,   0,   0,   0,   0,\n",
       "          0,   0,   0,   0,   0,   0,   0,   0,   0,   0,   0,   0,   0,\n",
       "          0,   0]], dtype=uint8)"
      ]
     },
     "execution_count": 9,
     "metadata": {},
     "output_type": "execute_result"
    }
   ],
   "source": [
    "X_train[0]"
   ]
  },
  {
   "cell_type": "code",
   "execution_count": 10,
   "metadata": {},
   "outputs": [
    {
     "data": {
      "text/plain": [
       "0"
      ]
     },
     "execution_count": 10,
     "metadata": {},
     "output_type": "execute_result"
    }
   ],
   "source": [
    "y_train[1]"
   ]
  },
  {
   "cell_type": "markdown",
   "metadata": {},
   "source": [
    "## Creating a validation set from the training set\n",
    "\n",
    "* Reserving first 5000 rows images for validation set.\n",
    "* Since we'll be training the neural network using gradient descent, we must scale the input features, i.e. we'll scale the intensities down to 0-1 range by dividing them by 255.0"
   ]
  },
  {
   "cell_type": "code",
   "execution_count": 11,
   "metadata": {},
   "outputs": [],
   "source": [
    "X_valid, X_train = X_train[:5000] / 255.0, X_train[5000:] / 255.0\n",
    "y_valid, y_train = y_train[:5000], y_train[5000:]\n",
    "X_test = X_test / 255.0"
   ]
  },
  {
   "cell_type": "code",
   "execution_count": 12,
   "metadata": {},
   "outputs": [],
   "source": [
    "class_names = [\"T-shirt/top\", \"Trouser\", \"Pullover\", \"Dress\", \"Coat\",\n",
    "               \"Sandal\", \"Shirt\", \"Sneaker\", \"Bag\", \"Ankle boot\"]"
   ]
  },
  {
   "cell_type": "code",
   "execution_count": 13,
   "metadata": {},
   "outputs": [
    {
     "data": {
      "text/plain": [
       "'T-shirt/top'"
      ]
     },
     "execution_count": 13,
     "metadata": {},
     "output_type": "execute_result"
    }
   ],
   "source": [
    "class_names[y_train[1]]"
   ]
  },
  {
   "cell_type": "code",
   "execution_count": 14,
   "metadata": {},
   "outputs": [],
   "source": [
    "import matplotlib.pyplot as plt\n",
    "\n",
    "%matplotlib inline"
   ]
  },
  {
   "cell_type": "code",
   "execution_count": 15,
   "metadata": {},
   "outputs": [
    {
     "data": {
      "image/png": "[encoded data removed]",
      "text/plain": [
       "<Figure size 432x288 with 1 Axes>"
      ]
     },
     "metadata": {
      "needs_background": "light"
     },
     "output_type": "display_data"
    }
   ],
   "source": [
    "plt.imshow(X_train[0], cmap='binary')\n",
    "plt.axis('off')\n",
    "plt.show()"
   ]
  },
  {
   "cell_type": "code",
   "execution_count": 16,
   "metadata": {},
   "outputs": [
    {
     "data": {
      "image/png": "[encoded data removed]",
      "text/plain": [
       "<Figure size 864x345.6 with 40 Axes>"
      ]
     },
     "metadata": {
      "needs_background": "light"
     },
     "output_type": "display_data"
    }
   ],
   "source": [
    "n_rows = 4\n",
    "n_cols = 10\n",
    "plt.figure(figsize=(n_cols * 1.2, n_rows * 1.2))\n",
    "for row in range(n_rows):\n",
    "    for col in range(n_cols):\n",
    "        index = n_cols * row + col\n",
    "        plt.subplot(n_rows, n_cols, index + 1)\n",
    "        plt.imshow(X_train[index], cmap=\"binary\", interpolation=\"nearest\")\n",
    "        plt.axis('off')\n",
    "        plt.title(class_names[y_train[index]], fontsize=12)\n",
    "plt.subplots_adjust(wspace=0.2, hspace=0.5)\n",
    "plt.show()"
   ]
  },
  {
   "cell_type": "markdown",
   "metadata": {},
   "source": [
    "## Defining Model with 2 Hidden Layer using Sequential API"
   ]
  },
  {
   "cell_type": "code",
   "execution_count": 17,
   "metadata": {},
   "outputs": [],
   "source": [
    "model = keras.models.Sequential([\n",
    "    keras.layers.Flatten(input_shape=[28, 28]), # input flatten layer\n",
    "    keras.layers.Dense(300, activation='relu'),\n",
    "    keras.layers.Dense(100, activation='relu'),\n",
    "    keras.layers.Dense(10, activation='softmax') # output layer\n",
    "])\n"
   ]
  },
  {
   "cell_type": "code",
   "execution_count": 18,
   "metadata": {},
   "outputs": [
    {
     "data": {
      "text/plain": [
       "[<tensorflow.python.keras.layers.core.Flatten at 0x7f11d82c2250>,\n",
       " <tensorflow.python.keras.layers.core.Dense at 0x7f11e015d310>,\n",
       " <tensorflow.python.keras.layers.core.Dense at 0x7f11e015d280>,\n",
       " <tensorflow.python.keras.layers.core.Dense at 0x7f11d82b4580>]"
      ]
     },
     "execution_count": 18,
     "metadata": {},
     "output_type": "execute_result"
    }
   ],
   "source": [
    "model.layers"
   ]
  },
  {
   "cell_type": "code",
   "execution_count": 19,
   "metadata": {},
   "outputs": [
    {
     "name": "stdout",
     "output_type": "stream",
     "text": [
      "Model: \"sequential_1\"\n",
      "_________________________________________________________________\n",
      "Layer (type)                 Output Shape              Param #   \n",
      "=================================================================\n",
      "flatten (Flatten)            (None, 784)               0         \n",
      "_________________________________________________________________\n",
      "dense_1 (Dense)              (None, 300)               235500    \n",
      "_________________________________________________________________\n",
      "dense_2 (Dense)              (None, 100)               30100     \n",
      "_________________________________________________________________\n",
      "dense_3 (Dense)              (None, 10)                1010      \n",
      "=================================================================\n",
      "Total params: 266,610\n",
      "Trainable params: 266,610\n",
      "Non-trainable params: 0\n",
      "_________________________________________________________________\n"
     ]
    }
   ],
   "source": [
    "model.summary()"
   ]
  },
  {
   "cell_type": "code",
   "execution_count": 20,
   "metadata": {},
   "outputs": [],
   "source": [
    "hidden_1 = model.layers[1]"
   ]
  },
  {
   "cell_type": "code",
   "execution_count": 21,
   "metadata": {},
   "outputs": [
    {
     "data": {
      "text/plain": [
       "'dense_1'"
      ]
     },
     "execution_count": 21,
     "metadata": {},
     "output_type": "execute_result"
    }
   ],
   "source": [
    "hidden_1.name"
   ]
  },
  {
   "cell_type": "code",
   "execution_count": 22,
   "metadata": {},
   "outputs": [],
   "source": [
    "## learning weights and biases\n",
    "weights, biases = hidden_1.get_weights()"
   ]
  },
  {
   "cell_type": "code",
   "execution_count": 23,
   "metadata": {},
   "outputs": [
    {
     "data": {
      "text/plain": [
       "array([[-0.05183061, -0.04566119, -0.01383061, ..., -0.05587399,\n",
       "         0.01746386, -0.03832611],\n",
       "       [-0.01173294,  0.06491143,  0.02289272, ..., -0.04418156,\n",
       "         0.0124047 , -0.03576134],\n",
       "       [-0.00932575, -0.01052573, -0.02313573, ...,  0.05027711,\n",
       "         0.02443904, -0.01353106],\n",
       "       ...,\n",
       "       [-0.02417123, -0.03549542, -0.00944456, ..., -0.07224724,\n",
       "        -0.03943105, -0.07201757],\n",
       "       [-0.03263025,  0.05174993, -0.02754827, ...,  0.0454105 ,\n",
       "        -0.03562031, -0.04650144],\n",
       "       [ 0.04036341, -0.05412877,  0.01847737, ...,  0.00089495,\n",
       "         0.06719334,  0.03687744]], dtype=float32)"
      ]
     },
     "execution_count": 23,
     "metadata": {},
     "output_type": "execute_result"
    }
   ],
   "source": [
    "weights"
   ]
  },
  {
   "cell_type": "code",
   "execution_count": 24,
   "metadata": {},
   "outputs": [
    {
     "data": {
      "text/plain": [
       "array([0., 0., 0., 0., 0., 0., 0., 0., 0., 0., 0., 0., 0., 0., 0., 0., 0.,\n",
       "       0., 0., 0., 0., 0., 0., 0., 0., 0., 0., 0., 0., 0., 0., 0., 0., 0.,\n",
       "       0., 0., 0., 0., 0., 0., 0., 0., 0., 0., 0., 0., 0., 0., 0., 0., 0.,\n",
       "       0., 0., 0., 0., 0., 0., 0., 0., 0., 0., 0., 0., 0., 0., 0., 0., 0.,\n",
       "       0., 0., 0., 0., 0., 0., 0., 0., 0., 0., 0., 0., 0., 0., 0., 0., 0.,\n",
       "       0., 0., 0., 0., 0., 0., 0., 0., 0., 0., 0., 0., 0., 0., 0., 0., 0.,\n",
       "       0., 0., 0., 0., 0., 0., 0., 0., 0., 0., 0., 0., 0., 0., 0., 0., 0.,\n",
       "       0., 0., 0., 0., 0., 0., 0., 0., 0., 0., 0., 0., 0., 0., 0., 0., 0.,\n",
       "       0., 0., 0., 0., 0., 0., 0., 0., 0., 0., 0., 0., 0., 0., 0., 0., 0.,\n",
       "       0., 0., 0., 0., 0., 0., 0., 0., 0., 0., 0., 0., 0., 0., 0., 0., 0.,\n",
       "       0., 0., 0., 0., 0., 0., 0., 0., 0., 0., 0., 0., 0., 0., 0., 0., 0.,\n",
       "       0., 0., 0., 0., 0., 0., 0., 0., 0., 0., 0., 0., 0., 0., 0., 0., 0.,\n",
       "       0., 0., 0., 0., 0., 0., 0., 0., 0., 0., 0., 0., 0., 0., 0., 0., 0.,\n",
       "       0., 0., 0., 0., 0., 0., 0., 0., 0., 0., 0., 0., 0., 0., 0., 0., 0.,\n",
       "       0., 0., 0., 0., 0., 0., 0., 0., 0., 0., 0., 0., 0., 0., 0., 0., 0.,\n",
       "       0., 0., 0., 0., 0., 0., 0., 0., 0., 0., 0., 0., 0., 0., 0., 0., 0.,\n",
       "       0., 0., 0., 0., 0., 0., 0., 0., 0., 0., 0., 0., 0., 0., 0., 0., 0.,\n",
       "       0., 0., 0., 0., 0., 0., 0., 0., 0., 0., 0.], dtype=float32)"
      ]
     },
     "execution_count": 24,
     "metadata": {},
     "output_type": "execute_result"
    }
   ],
   "source": [
    "biases"
   ]
  },
  {
   "cell_type": "markdown",
   "metadata": {},
   "source": [
    "## Compiling the model\n",
    "\n",
    "1. **Loss**: we use the \"sparse_categorical_crossentropy\" loss because we have sparse labels (i.e., for each instance, there is just a target class index, from 0 to 9 in this case), and the classes are exclusive.\n",
    "2. **Optimizer**: \"sgd\" means that we will train the model using simple Stochastic Gradient Descent. Bsically, Keras will perform the backpropagation algorithm as discussed.\n",
    "3. **Metrics**: Since this is a classification problem, it'd be useful to measure the accuracy of the model."
   ]
  },
  {
   "cell_type": "code",
   "execution_count": 25,
   "metadata": {},
   "outputs": [],
   "source": [
    "model.compile(loss=\"sparse_categorical_crossentropy\",\n",
    "              optimizer=\"sgd\",\n",
    "              metrics=[\"accuracy\"])"
   ]
  },
  {
   "cell_type": "code",
   "execution_count": 26,
   "metadata": {},
   "outputs": [
    {
     "name": "stdout",
     "output_type": "stream",
     "text": [
      "Epoch 1/30\n",
      "1719/1719 [==============================] - 2s 1ms/step - loss: 0.7077 - accuracy: 0.7662 - val_loss: 0.5092 - val_accuracy: 0.8258\n",
      "Epoch 2/30\n",
      "1719/1719 [==============================] - 2s 990us/step - loss: 0.4835 - accuracy: 0.8311 - val_loss: 0.4517 - val_accuracy: 0.8446\n",
      "Epoch 3/30\n",
      "1719/1719 [==============================] - 2s 980us/step - loss: 0.4395 - accuracy: 0.8452 - val_loss: 0.4471 - val_accuracy: 0.8408\n",
      "Epoch 4/30\n",
      "1719/1719 [==============================] - 2s 994us/step - loss: 0.4133 - accuracy: 0.8545 - val_loss: 0.4013 - val_accuracy: 0.8648\n",
      "Epoch 5/30\n",
      "1719/1719 [==============================] - 2s 986us/step - loss: 0.3940 - accuracy: 0.8610 - val_loss: 0.3788 - val_accuracy: 0.8672\n",
      "Epoch 6/30\n",
      "1719/1719 [==============================] - 2s 1ms/step - loss: 0.3781 - accuracy: 0.8665 - val_loss: 0.3850 - val_accuracy: 0.8682\n",
      "Epoch 7/30\n",
      "1719/1719 [==============================] - 2s 996us/step - loss: 0.3667 - accuracy: 0.8696 - val_loss: 0.3684 - val_accuracy: 0.8710\n",
      "Epoch 8/30\n",
      "1719/1719 [==============================] - 2s 983us/step - loss: 0.3551 - accuracy: 0.8737 - val_loss: 0.3502 - val_accuracy: 0.8822\n",
      "Epoch 9/30\n",
      "1719/1719 [==============================] - 2s 982us/step - loss: 0.3442 - accuracy: 0.8764 - val_loss: 0.3618 - val_accuracy: 0.8728\n",
      "Epoch 10/30\n",
      "1719/1719 [==============================] - 2s 978us/step - loss: 0.3354 - accuracy: 0.8805 - val_loss: 0.3481 - val_accuracy: 0.8746\n",
      "Epoch 11/30\n",
      "1719/1719 [==============================] - 2s 989us/step - loss: 0.3268 - accuracy: 0.8843 - val_loss: 0.3425 - val_accuracy: 0.8804\n",
      "Epoch 12/30\n",
      "1719/1719 [==============================] - 2s 972us/step - loss: 0.3194 - accuracy: 0.8840 - val_loss: 0.3319 - val_accuracy: 0.8828\n",
      "Epoch 13/30\n",
      "1719/1719 [==============================] - 2s 982us/step - loss: 0.3116 - accuracy: 0.8880 - val_loss: 0.3444 - val_accuracy: 0.8782\n",
      "Epoch 14/30\n",
      "1719/1719 [==============================] - 2s 966us/step - loss: 0.3054 - accuracy: 0.8908 - val_loss: 0.3336 - val_accuracy: 0.8808\n",
      "Epoch 15/30\n",
      "1719/1719 [==============================] - 2s 983us/step - loss: 0.2974 - accuracy: 0.8928 - val_loss: 0.3256 - val_accuracy: 0.8852\n",
      "Epoch 16/30\n",
      "1719/1719 [==============================] - 2s 1ms/step - loss: 0.2923 - accuracy: 0.8945 - val_loss: 0.3192 - val_accuracy: 0.8848\n",
      "Epoch 17/30\n",
      "1719/1719 [==============================] - 2s 980us/step - loss: 0.2871 - accuracy: 0.8981 - val_loss: 0.3166 - val_accuracy: 0.8852\n",
      "Epoch 18/30\n",
      "1719/1719 [==============================] - 2s 974us/step - loss: 0.2800 - accuracy: 0.8991 - val_loss: 0.3360 - val_accuracy: 0.8838\n",
      "Epoch 19/30\n",
      "1719/1719 [==============================] - 2s 986us/step - loss: 0.2754 - accuracy: 0.9006 - val_loss: 0.3149 - val_accuracy: 0.8840\n",
      "Epoch 20/30\n",
      "1719/1719 [==============================] - 2s 984us/step - loss: 0.2698 - accuracy: 0.9029 - val_loss: 0.3106 - val_accuracy: 0.8884\n",
      "Epoch 21/30\n",
      "1719/1719 [==============================] - 2s 988us/step - loss: 0.2653 - accuracy: 0.9031 - val_loss: 0.3230 - val_accuracy: 0.8844\n",
      "Epoch 22/30\n",
      "1719/1719 [==============================] - 2s 985us/step - loss: 0.2611 - accuracy: 0.9053 - val_loss: 0.3013 - val_accuracy: 0.8892\n",
      "Epoch 23/30\n",
      "1719/1719 [==============================] - 2s 989us/step - loss: 0.2560 - accuracy: 0.9079 - val_loss: 0.3104 - val_accuracy: 0.8888\n",
      "Epoch 24/30\n",
      "1719/1719 [==============================] - 2s 980us/step - loss: 0.2516 - accuracy: 0.9099 - val_loss: 0.2962 - val_accuracy: 0.8926\n",
      "Epoch 25/30\n",
      "1719/1719 [==============================] - 2s 996us/step - loss: 0.2475 - accuracy: 0.9117 - val_loss: 0.3067 - val_accuracy: 0.8906\n",
      "Epoch 26/30\n",
      "1719/1719 [==============================] - 2s 983us/step - loss: 0.2432 - accuracy: 0.9127 - val_loss: 0.2971 - val_accuracy: 0.8924\n",
      "Epoch 27/30\n",
      "1719/1719 [==============================] - 2s 985us/step - loss: 0.2396 - accuracy: 0.9145 - val_loss: 0.3300 - val_accuracy: 0.8780\n",
      "Epoch 28/30\n",
      "1719/1719 [==============================] - 2s 977us/step - loss: 0.2359 - accuracy: 0.9153 - val_loss: 0.3021 - val_accuracy: 0.8928\n",
      "Epoch 29/30\n",
      "1719/1719 [==============================] - 2s 975us/step - loss: 0.2315 - accuracy: 0.9163 - val_loss: 0.3089 - val_accuracy: 0.8930\n",
      "Epoch 30/30\n",
      "1719/1719 [==============================] - 2s 979us/step - loss: 0.2283 - accuracy: 0.9177 - val_loss: 0.2995 - val_accuracy: 0.8908\n"
     ]
    }
   ],
   "source": [
    " history = model.fit(X_train, y_train, epochs=30, \n",
    "                     validation_data=(X_valid, y_valid))"
   ]
  },
  {
   "cell_type": "code",
   "execution_count": 27,
   "metadata": {},
   "outputs": [
    {
     "name": "stdout",
     "output_type": "stream",
     "text": [
      "313/313 [==============================] - 0s 533us/step - loss: 0.3326 - accuracy: 0.8823\n"
     ]
    },
    {
     "data": {
      "text/plain": [
       "[0.3326309025287628, 0.8823000192642212]"
      ]
     },
     "execution_count": 27,
     "metadata": {},
     "output_type": "execute_result"
    }
   ],
   "source": [
    "model.evaluate(X_test, y_test)"
   ]
  },
  {
   "cell_type": "code",
   "execution_count": 30,
   "metadata": {},
   "outputs": [
    {
     "ename": "AttributeError",
     "evalue": "'DataFrame' object has no attribute 'history'",
     "output_type": "error",
     "traceback": [
      "\u001b[0;31m---------------------------------------------------------------------------\u001b[0m",
      "\u001b[0;31mAttributeError\u001b[0m                            Traceback (most recent call last)",
      "\u001b[0;32m<ipython-input-30-f4db37bc389a>\u001b[0m in \u001b[0;36m<module>\u001b[0;34m\u001b[0m\n\u001b[0;32m----> 1\u001b[0;31m \u001b[0mhistory\u001b[0m \u001b[0;34m=\u001b[0m \u001b[0mpd\u001b[0m\u001b[0;34m.\u001b[0m\u001b[0mDataFrame\u001b[0m\u001b[0;34m(\u001b[0m\u001b[0mhistory\u001b[0m\u001b[0;34m.\u001b[0m\u001b[0mhistory\u001b[0m\u001b[0;34m)\u001b[0m\u001b[0;34m\u001b[0m\u001b[0;34m\u001b[0m\u001b[0m\n\u001b[0m\u001b[1;32m      2\u001b[0m \u001b[0mhistory\u001b[0m\u001b[0;34m\u001b[0m\u001b[0;34m\u001b[0m\u001b[0m\n",
      "\u001b[0;32m~/DSWH/dswh_env/lib/python3.8/site-packages/pandas/core/generic.py\u001b[0m in \u001b[0;36m__getattr__\u001b[0;34m(self, name)\u001b[0m\n\u001b[1;32m   5128\u001b[0m             \u001b[0;32mif\u001b[0m \u001b[0mself\u001b[0m\u001b[0;34m.\u001b[0m\u001b[0m_info_axis\u001b[0m\u001b[0;34m.\u001b[0m\u001b[0m_can_hold_identifiers_and_holds_name\u001b[0m\u001b[0;34m(\u001b[0m\u001b[0mname\u001b[0m\u001b[0;34m)\u001b[0m\u001b[0;34m:\u001b[0m\u001b[0;34m\u001b[0m\u001b[0;34m\u001b[0m\u001b[0m\n\u001b[1;32m   5129\u001b[0m                 \u001b[0;32mreturn\u001b[0m \u001b[0mself\u001b[0m\u001b[0;34m[\u001b[0m\u001b[0mname\u001b[0m\u001b[0;34m]\u001b[0m\u001b[0;34m\u001b[0m\u001b[0;34m\u001b[0m\u001b[0m\n\u001b[0;32m-> 5130\u001b[0;31m             \u001b[0;32mreturn\u001b[0m \u001b[0mobject\u001b[0m\u001b[0;34m.\u001b[0m\u001b[0m__getattribute__\u001b[0m\u001b[0;34m(\u001b[0m\u001b[0mself\u001b[0m\u001b[0;34m,\u001b[0m \u001b[0mname\u001b[0m\u001b[0;34m)\u001b[0m\u001b[0;34m\u001b[0m\u001b[0;34m\u001b[0m\u001b[0m\n\u001b[0m\u001b[1;32m   5131\u001b[0m \u001b[0;34m\u001b[0m\u001b[0m\n\u001b[1;32m   5132\u001b[0m     \u001b[0;32mdef\u001b[0m \u001b[0m__setattr__\u001b[0m\u001b[0;34m(\u001b[0m\u001b[0mself\u001b[0m\u001b[0;34m,\u001b[0m \u001b[0mname\u001b[0m\u001b[0;34m:\u001b[0m \u001b[0mstr\u001b[0m\u001b[0;34m,\u001b[0m \u001b[0mvalue\u001b[0m\u001b[0;34m)\u001b[0m \u001b[0;34m->\u001b[0m \u001b[0;32mNone\u001b[0m\u001b[0;34m:\u001b[0m\u001b[0;34m\u001b[0m\u001b[0;34m\u001b[0m\u001b[0m\n",
      "\u001b[0;31mAttributeError\u001b[0m: 'DataFrame' object has no attribute 'history'"
     ]
    }
   ],
   "source": [
    "history = pd.DataFrame(history.history)\n"
   ]
  },
  {
   "cell_type": "code",
   "execution_count": 33,
   "metadata": {},
   "outputs": [
    {
     "data": {
      "image/png": "[encoded data removed]",
      "text/plain": [
       "<Figure size 864x576 with 1 Axes>"
      ]
     },
     "metadata": {
      "needs_background": "light"
     },
     "output_type": "display_data"
    }
   ],
   "source": [
    "history.plot(figsize = (12,8))\n",
    "\n",
    "plt.grid(True)"
   ]
  },
  {
   "cell_type": "markdown",
   "metadata": {},
   "source": [
    "## Making a few predictions\n",
    "Running it on a sample of data"
   ]
  },
  {
   "cell_type": "code",
   "execution_count": 34,
   "metadata": {},
   "outputs": [
    {
     "data": {
      "text/plain": [
       "array([[0.  , 0.  , 0.  , 0.  , 0.  , 0.01, 0.  , 0.03, 0.  , 0.96],\n",
       "       [0.  , 0.  , 1.  , 0.  , 0.  , 0.  , 0.  , 0.  , 0.  , 0.  ],\n",
       "       [0.  , 1.  , 0.  , 0.  , 0.  , 0.  , 0.  , 0.  , 0.  , 0.  ],\n",
       "       [0.  , 1.  , 0.  , 0.  , 0.  , 0.  , 0.  , 0.  , 0.  , 0.  ],\n",
       "       [0.09, 0.  , 0.  , 0.  , 0.01, 0.  , 0.9 , 0.  , 0.  , 0.  ]],\n",
       "      dtype=float32)"
      ]
     },
     "execution_count": 34,
     "metadata": {},
     "output_type": "execute_result"
    }
   ],
   "source": [
    "X_sample = X_test[:5]\n",
    "y_proba = model.predict(X_sample)\n",
    "y_proba.round(2)"
   ]
  },
  {
   "cell_type": "code",
   "execution_count": 35,
   "metadata": {},
   "outputs": [
    {
     "name": "stdout",
     "output_type": "stream",
     "text": [
      "WARNING:tensorflow:From <ipython-input-35-1eeb179c1820>:1: Sequential.predict_classes (from tensorflow.python.keras.engine.sequential) is deprecated and will be removed after 2021-01-01.\n",
      "Instructions for updating:\n",
      "Please use instead:* `np.argmax(model.predict(x), axis=-1)`,   if your model does multi-class classification   (e.g. if it uses a `softmax` last-layer activation).* `(model.predict(x) > 0.5).astype(\"int32\")`,   if your model does binary classification   (e.g. if it uses a `sigmoid` last-layer activation).\n"
     ]
    },
    {
     "data": {
      "text/plain": [
       "array([9, 2, 1, 1, 6])"
      ]
     },
     "execution_count": 35,
     "metadata": {},
     "output_type": "execute_result"
    }
   ],
   "source": [
    "y_pred = model.predict_classes(X_sample)\n",
    "y_pred"
   ]
  },
  {
   "cell_type": "code",
   "execution_count": 36,
   "metadata": {},
   "outputs": [
    {
     "data": {
      "text/plain": [
       "array(['Ankle boot', 'Pullover', 'Trouser', 'Trouser', 'Shirt'],\n",
       "      dtype='<U11')"
      ]
     },
     "execution_count": 36,
     "metadata": {},
     "output_type": "execute_result"
    }
   ],
   "source": [
    "np.array(class_names)[y_pred]"
   ]
  },
  {
   "cell_type": "code",
   "execution_count": 37,
   "metadata": {},
   "outputs": [
    {
     "data": {
      "text/plain": [
       "array(['Ankle boot', 'Pullover', 'Trouser', 'Trouser', 'Shirt'],\n",
       "      dtype='<U11')"
      ]
     },
     "execution_count": 37,
     "metadata": {},
     "output_type": "execute_result"
    }
   ],
   "source": [
    "y_sample = y_test[:5]\n",
    "np.array(class_names)[y_sample]"
   ]
  },
  {
   "cell_type": "code",
   "execution_count": null,
   "metadata": {},
   "outputs": [],
   "source": []
  }
 ],
 "metadata": {
  "kernelspec": {
   "display_name": "Python 3",
   "language": "python",
   "name": "python3"
  },
  "language_info": {
   "codemirror_mode": {
    "name": "ipython",
    "version": 3
   },
   "file_extension": ".py",
   "mimetype": "text/x-python",
   "name": "python",
   "nbconvert_exporter": "python",
   "pygments_lexer": "ipython3",
   "version": "3.8.2"
  }
 },
 "nbformat": 4,
 "nbformat_minor": 4
}
